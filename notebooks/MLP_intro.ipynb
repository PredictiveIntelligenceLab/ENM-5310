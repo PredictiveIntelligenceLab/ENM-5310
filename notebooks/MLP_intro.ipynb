{
  "nbformat": 4,
  "nbformat_minor": 0,
  "metadata": {
    "colab": {
      "name": "MLP_intro.ipynb",
      "provenance": []
    },
    "kernelspec": {
      "name": "python3",
      "display_name": "Python 3"
    },
    "language_info": {
      "name": "python"
    },
    "accelerator": "GPU"
  },
  "cells": [
    {
      "cell_type": "code",
      "metadata": {
        "id": "EbrNowBtdapq"
      },
      "source": [
        "import jax.numpy as np\n",
        "import numpy as onp\n",
        "from jax import random, jit, vmap, grad, device_put\n",
        "from jax.example_libraries import optimizers\n",
        "\n",
        "import itertools\n",
        "from functools import partial\n",
        "from tqdm import trange\n",
        "import matplotlib.pyplot as plt"
      ],
      "execution_count": 1,
      "outputs": []
    },
    {
      "cell_type": "code",
      "metadata": {
        "id": "oouJk8brdc9a"
      },
      "source": [
        "def MLP(layers, activation=np.tanh):\n",
        "  def init(rng_key):\n",
        "      def init_layer(key, d_in, d_out):\n",
        "          k1, k2 = random.split(key)\n",
        "          glorot_stddev = 1. / np.sqrt((d_in + d_out) / 2.)\n",
        "          W = glorot_stddev * random.normal(k1, (d_in, d_out))\n",
        "          b = np.zeros(d_out)\n",
        "          return W, b\n",
        "      key, *keys = random.split(rng_key, len(layers))\n",
        "      params = list(map(init_layer, keys, layers[:-1], layers[1:]))\n",
        "      return params\n",
        "  def apply(params, inputs):\n",
        "      for W, b in params[:-1]:\n",
        "          outputs = np.dot(inputs, W) + b\n",
        "          inputs = activation(outputs)\n",
        "      W, b = params[-1]\n",
        "      outputs = np.dot(inputs, W) + b\n",
        "      return outputs\n",
        "  return init, apply"
      ],
      "execution_count": 2,
      "outputs": []
    },
    {
      "cell_type": "code",
      "metadata": {
        "id": "RQlf_yWwd1Jo"
      },
      "source": [
        "@optimizers.optimizer\n",
        "def sgd(step_size):\n",
        "    step_size = optimizers.make_schedule(step_size)\n",
        "    def init(x0):\n",
        "        return x0\n",
        "    def update(i, g, x):\n",
        "        return x - step_size(i) * g\n",
        "    def get_params(x):\n",
        "        return x\n",
        "    return init, update, get_params\n",
        "\n",
        "@optimizers.optimizer\n",
        "def adam(step_size, b1=0.9, b2=0.999, eps=1e-8):\n",
        "    step_size = optimizers.make_schedule(step_size)\n",
        "    def init(x0):\n",
        "        m0 = np.zeros_like(x0)\n",
        "        v0 = np.zeros_like(x0)\n",
        "        return x0, m0, v0\n",
        "    def update(i, g, state):\n",
        "        x, m, v = state\n",
        "        m = (1 - b1) * g + b1 * m  # First  moment estimate.\n",
        "        v = (1 - b2) * np.square(g) + b2 * v  # Second moment estimate.\n",
        "        mhat = m / (1 - np.asarray(b1, m.dtype) ** (i + 1))  # Bias correction.\n",
        "        vhat = v / (1 - np.asarray(b2, m.dtype) ** (i + 1))\n",
        "        x = x - step_size(i) * mhat / (np.sqrt(vhat) + eps)\n",
        "        return x, m, v\n",
        "    def get_params(state):\n",
        "        x, _, _ = state\n",
        "        return x\n",
        "    return init, update, get_params"
      ],
      "execution_count": 3,
      "outputs": []
    },
    {
      "cell_type": "code",
      "source": [
        "# Defining the keys for the model and the data loader:\n",
        "# Doing this before due to some strange bug on JAX (REF:https://github.com/google/jax/issues/15084)\n",
        "rng_model = random.PRNGKey(0)\n",
        "rng_dataloader = random.PRNGKey(42)"
      ],
      "metadata": {
        "id": "b1WsRVZhOqO7"
      },
      "execution_count": 4,
      "outputs": []
    },
    {
      "cell_type": "code",
      "metadata": {
        "id": "CuQxZ8mAfzpf"
      },
      "source": [
        "class MLPregression:\n",
        "    # Initialize the class\n",
        "    def __init__(self, layers, rng_key):\n",
        "        # MLP init and apply functions\n",
        "        self.net_init, self.net_apply = MLP(layers)\n",
        "        params = self.net_init(rng_key)\n",
        "\n",
        "        # Optimizer initialization and update functions\n",
        "        lr = optimizers.exponential_decay(1e-3, decay_steps=1000, decay_rate=0.999)\n",
        "        self.opt_init, \\\n",
        "        self.opt_update, \\\n",
        "        self.get_params = adam(lr)\n",
        "        self.opt_state = self.opt_init(params)\n",
        "\n",
        "        # Logger\n",
        "        self.itercount = itertools.count()\n",
        "        self.loss_log = []\n",
        "\n",
        "    def loss(self, params, batch):\n",
        "        inputs, targets = batch\n",
        "        outputs = self.net_apply(params, inputs)\n",
        "        loss = np.mean((targets - outputs)**2)\n",
        "        return loss \n",
        "\n",
        "    @partial(jit, static_argnums=(0,))\n",
        "    def step(self, i, opt_state, batch):\n",
        "        params = self.get_params(opt_state)\n",
        "        gradients = grad(self.loss)(params, batch)\n",
        "        return self.opt_update(i, gradients, opt_state)\n",
        "\n",
        "    def train(self, dataset, nIter = 10):\n",
        "        data = iter(dataset)\n",
        "        pbar = trange(nIter)\n",
        "        # Main training loop\n",
        "        for it in pbar:\n",
        "            # Run one gradient descent update\n",
        "            batch = next(data)\n",
        "            self.opt_state = self.step(next(self.itercount), self.opt_state, batch)  \n",
        "            if it % 50 == 0:\n",
        "                # Logger\n",
        "                params = self.get_params(self.opt_state)\n",
        "                loss = self.loss(params, batch)\n",
        "                self.loss_log.append(loss)\n",
        "                pbar.set_postfix({'Loss': loss})\n",
        "\n",
        "    @partial(jit, static_argnums=(0,))\n",
        "    def predict(self, params, inputs):\n",
        "        outputs = self.net_apply(params, inputs)\n",
        "        return outputs"
      ],
      "execution_count": 5,
      "outputs": []
    },
    {
      "cell_type": "code",
      "metadata": {
        "id": "c824NoCDVVJG"
      },
      "source": [
        "from torch.utils import data\n",
        "class DataGenerator(data.Dataset):\n",
        "    def __init__(self, X, Y, \n",
        "                 norm_const=((0.0, 1.0), (0.0, 1.0)), \n",
        "                 batch_size=128, \n",
        "                 rng_key = random.PRNGKey(123)):\n",
        "        'Initialization'\n",
        "        self.X = X\n",
        "        self.Y = Y\n",
        "        self.N = Y.shape[0]\n",
        "        self.norm_const = norm_const\n",
        "        self.batch_size = batch_size\n",
        "        self.key = rng_key\n",
        "\n",
        "    @partial(jit, static_argnums=(0,))\n",
        "    def __data_generation(self, key, X, Y):\n",
        "        'Generates data containing batch_size samples'\n",
        "        (mu_X, sigma_X), (mu_Y, sigma_Y) = self.norm_const\n",
        "        idx = random.choice(key, self.N, (self.batch_size,), replace=False)\n",
        "        inputs = X[idx,:]\n",
        "        targets = Y[idx,:]\n",
        "        inputs = (inputs - mu_X)/sigma_X\n",
        "        targets = (targets - mu_Y)/sigma_Y\n",
        "        return inputs, targets\n",
        "\n",
        "    def __getitem__(self, index):\n",
        "        'Generate one batch of data'\n",
        "        self.key, subkey = random.split(self.key)\n",
        "        inputs, targets = self.__data_generation(self.key, self.X, self.Y)\n",
        "        return inputs, targets"
      ],
      "execution_count": 6,
      "outputs": []
    },
    {
      "cell_type": "code",
      "metadata": {
        "colab": {
          "base_uri": "https://localhost:8080/"
        },
        "id": "8YosM-uRXdmr",
        "outputId": "c3d7d8c3-7792-4fd5-c5a4-1dfa26288459"
      },
      "source": [
        "!wget https://github.com/maziarraissi/backprop/raw/master/training_data.csv\n",
        "!wget https://github.com/maziarraissi/backprop/raw/master/test_data.csv"
      ],
      "execution_count": 7,
      "outputs": [
        {
          "output_type": "stream",
          "name": "stdout",
          "text": [
            "--2023-03-24 10:57:02--  https://github.com/maziarraissi/backprop/raw/master/training_data.csv\n",
            "Resolving github.com (github.com)... 192.30.255.112\n",
            "Connecting to github.com (github.com)|192.30.255.112|:443... connected.\n",
            "HTTP request sent, awaiting response... 302 Found\n",
            "Location: https://raw.githubusercontent.com/maziarraissi/backprop/master/training_data.csv [following]\n",
            "--2023-03-24 10:57:03--  https://raw.githubusercontent.com/maziarraissi/backprop/master/training_data.csv\n",
            "Resolving raw.githubusercontent.com (raw.githubusercontent.com)... 185.199.108.133, 185.199.109.133, 185.199.110.133, ...\n",
            "Connecting to raw.githubusercontent.com (raw.githubusercontent.com)|185.199.108.133|:443... connected.\n",
            "HTTP request sent, awaiting response... 200 OK\n",
            "Length: 5100 (5.0K) [text/plain]\n",
            "Saving to: ‘training_data.csv.1’\n",
            "\n",
            "\rtraining_data.csv.1   0%[                    ]       0  --.-KB/s               \rtraining_data.csv.1 100%[===================>]   4.98K  --.-KB/s    in 0s      \n",
            "\n",
            "2023-03-24 10:57:03 (57.5 MB/s) - ‘training_data.csv.1’ saved [5100/5100]\n",
            "\n",
            "--2023-03-24 10:57:03--  https://github.com/maziarraissi/backprop/raw/master/test_data.csv\n",
            "Resolving github.com (github.com)... 192.30.255.112\n",
            "Connecting to github.com (github.com)|192.30.255.112|:443... connected.\n",
            "HTTP request sent, awaiting response... 302 Found\n",
            "Location: https://raw.githubusercontent.com/maziarraissi/backprop/master/test_data.csv [following]\n",
            "--2023-03-24 10:57:03--  https://raw.githubusercontent.com/maziarraissi/backprop/master/test_data.csv\n",
            "Resolving raw.githubusercontent.com (raw.githubusercontent.com)... 185.199.108.133, 185.199.109.133, 185.199.110.133, ...\n",
            "Connecting to raw.githubusercontent.com (raw.githubusercontent.com)|185.199.108.133|:443... connected.\n",
            "HTTP request sent, awaiting response... 200 OK\n",
            "Length: 51000 (50K) [text/plain]\n",
            "Saving to: ‘test_data.csv.1’\n",
            "\n",
            "test_data.csv.1     100%[===================>]  49.80K  --.-KB/s    in 0.006s  \n",
            "\n",
            "2023-03-24 10:57:03 (8.80 MB/s) - ‘test_data.csv.1’ saved [51000/51000]\n",
            "\n"
          ]
        }
      ]
    },
    {
      "cell_type": "code",
      "metadata": {
        "id": "hYTyW4M2hVBP"
      },
      "source": [
        "training_data = onp.loadtxt(\"training_data.csv\")\n",
        "X = np.array(training_data[:,0:1], dtype=np.float32)\n",
        "Y = np.array(training_data[:,1:2], dtype=np.float32)\n",
        "\n",
        "# Normalization constants\n",
        "mu_X, sigma_X = X.mean(0), X.std(0)\n",
        "mu_Y, sigma_Y = Y.mean(0), Y.std(0)\n",
        "norm_const = (mu_X, sigma_X), (mu_Y, sigma_Y)\n",
        "\n",
        "dataset = DataGenerator(X, Y, norm_const, batch_size=32, rng_key = rng_dataloader)"
      ],
      "execution_count": 8,
      "outputs": []
    },
    {
      "cell_type": "code",
      "metadata": {
        "id": "I3HSbKsIl_ym"
      },
      "source": [
        "layers=[1, 128, 128, 1]\n",
        "model = MLPregression(layers, rng_key = rng_model)"
      ],
      "execution_count": 9,
      "outputs": []
    },
    {
      "cell_type": "code",
      "metadata": {
        "colab": {
          "base_uri": "https://localhost:8080/"
        },
        "id": "ZWa3NT_Om-vn",
        "outputId": "862e7e7b-332b-4194-babc-a83193b23612"
      },
      "source": [
        "model.train(dataset, nIter=10000)"
      ],
      "execution_count": 10,
      "outputs": [
        {
          "output_type": "stream",
          "name": "stderr",
          "text": [
            "100%|██████████| 10000/10000 [00:16<00:00, 624.31it/s, Loss=0.00031199254]\n"
          ]
        }
      ]
    },
    {
      "cell_type": "code",
      "metadata": {
        "id": "x0obQ_QQwAfE"
      },
      "source": [
        "# Validate predictions\n",
        "test_data = onp.loadtxt(\"test_data.csv\")\n",
        "X_test = np.array(test_data[:,0:1], dtype=np.float32)\n",
        "Y_test = np.array(test_data[:,1:2], dtype=np.float32)\n",
        "\n",
        "# Normalize test inputs\n",
        "X_star = (X_test - mu_X)/sigma_X\n",
        "\n",
        "# Predict\n",
        "opt_params = model.get_params(model.opt_state)\n",
        "Y_pred = model.predict(opt_params, X_star)\n",
        "# De-normalize predicted outputs\n",
        "Y_pred = Y_pred*sigma_Y + mu_Y"
      ],
      "execution_count": 11,
      "outputs": []
    },
    {
      "cell_type": "code",
      "metadata": {
        "id": "pZfCoEmfwgZ_",
        "colab": {
          "base_uri": "https://localhost:8080/",
          "height": 595
        },
        "outputId": "21c18cae-19ae-4829-b330-32e6e62dd886"
      },
      "source": [
        "error = np.linalg.norm(Y_pred - Y_test)/np.linalg.norm(Y_test)\n",
        "print('Error %e' %(error))\n",
        "\n",
        "plt.figure()\n",
        "plt.plot(X,Y,'kx')\n",
        "plt.plot(X_test,Y_test,'b-')\n",
        "plt.plot(X_test,Y_pred,'r--')\n",
        "plt.xlabel('x')\n",
        "plt.xlabel('y')\n",
        "plt.tight_layout()\n",
        "\n",
        "plt.figure()\n",
        "plt.plot(np.array(model.loss_log))\n",
        "plt.yscale('log')\n",
        "plt.xlabel('Epoch')\n",
        "plt.ylabel('Loss')"
      ],
      "execution_count": 12,
      "outputs": [
        {
          "output_type": "stream",
          "name": "stdout",
          "text": [
            "Error 3.043650e-02\n"
          ]
        },
        {
          "output_type": "execute_result",
          "data": {
            "text/plain": [
              "Text(0, 0.5, 'Loss')"
            ]
          },
          "metadata": {},
          "execution_count": 12
        },
        {
          "output_type": "display_data",
          "data": {
            "text/plain": [
              "<Figure size 432x288 with 1 Axes>"
            ],
            "image/png": "[encoded data removed]"
          },
          "metadata": {
            "needs_background": "light"
          }
        },
        {
          "output_type": "display_data",
          "data": {
            "text/plain": [
              "<Figure size 432x288 with 1 Axes>"
            ],
            "image/png": "[encoded data removed]"
          },
          "metadata": {
            "needs_background": "light"
          }
        }
      ]
    },
    {
      "cell_type": "code",
      "metadata": {
        "id": "dj4N_sr_wm2N"
      },
      "source": [],
      "execution_count": 12,
      "outputs": []
    }
  ]
}