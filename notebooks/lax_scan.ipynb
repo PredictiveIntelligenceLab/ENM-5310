{
  "nbformat": 4,
  "nbformat_minor": 0,
  "metadata": {
    "colab": {
      "name": "lax_scan.ipynb",
      "provenance": [],
      "collapsed_sections": []
    },
    "kernelspec": {
      "name": "python3",
      "display_name": "Python 3"
    },
    "language_info": {
      "name": "python"
    }
  },
  "cells": [
    {
      "cell_type": "markdown",
      "source": [
        "## Eliminating for-loops that have carry-over using `lax.scan`\n",
        "\n",
        "In this tutirial we will see how we can eliminate for-loops that have carry-over using `lax.scan`.\n",
        "\n",
        "From the [JAX docs](https://jax.readthedocs.io/en/latest/_autosummary/jax.lax.scan.html), `lax.scan` replaces a for-loop with carry-over, by \"scanning\" a function over leading array axes while carrying along state.\n",
        "\n",
        "The semantics are described as follows:\n",
        "\n",
        "    def scan(f, init, xs, length=None):\n",
        "        if xs is None:\n",
        "            xs = [None] * length\n",
        "        carry = init\n",
        "        ys = []\n",
        "        for x in xs:\n",
        "            carry, y = f(carry, x)  # carry is the carryover\n",
        "            ys.append(y)            # the `y`s get accumulated into a stacked array\n",
        "        return carry, np.stack(ys)\n",
        "\n",
        "A key requirement of the function `f`, which is the function that gets scanned over the array `xs`, is that it must have only two positional arguments in there, one for `carry` and one for `x`. \n",
        "\n",
        "Let's see some concrete examples of this in action."
      ],
      "metadata": {
        "id": "4ORKLlvaUiDi"
      }
    },
    {
      "cell_type": "markdown",
      "source": [
        "## Example: Cumulative Summation\n",
        "\n",
        "One example where we might use a for-loop is in the cumulative sum or product of an array. Here, we need the current loop information to update the information from the previous loop. Let's see it in action for the cumulative sum.*italicized text*"
      ],
      "metadata": {
        "id": "D18M8Dv7VOEJ"
      }
    },
    {
      "cell_type": "code",
      "source": [
        "import jax.numpy as np\n",
        "\n",
        "a = np.array([1, 2, 3, 5, 7, 11, 13, 17])\n",
        "\n",
        "result = []\n",
        "res = 0\n",
        "for el in a:\n",
        "    res += el\n",
        "    result.append(res)\n",
        "np.array(result)\n",
        "print(result)"
      ],
      "metadata": {
        "colab": {
          "base_uri": "https://localhost:8080/"
        },
        "id": "ub0AKwlhVLPs",
        "outputId": "2f658f25-c72c-4fae-f426-79e82390d418"
      },
      "execution_count": null,
      "outputs": [
        {
          "output_type": "stream",
          "name": "stdout",
          "text": [
            "[1, 3, 6, 11, 18, 29, 42, 59]\n"
          ]
        }
      ]
    },
    {
      "cell_type": "markdown",
      "source": [
        "This is identical to the cumulative sum:"
      ],
      "metadata": {
        "id": "JpxPFivWVdDI"
      }
    },
    {
      "cell_type": "code",
      "source": [
        "print(np.cumsum(a))"
      ],
      "metadata": {
        "colab": {
          "base_uri": "https://localhost:8080/"
        },
        "id": "H2ru1yhNUlMB",
        "outputId": "181c8669-497a-4402-bd5a-a6b2914ba46c"
      },
      "execution_count": null,
      "outputs": [
        {
          "output_type": "stream",
          "name": "stdout",
          "text": [
            "[ 1  3  6 11 18 29 42 59]\n"
          ]
        }
      ]
    },
    {
      "cell_type": "markdown",
      "source": [
        "Now, let's write it using `lax.scan`, so we can see the pattern in action:"
      ],
      "metadata": {
        "id": "BcKkhh_AVjAb"
      }
    },
    {
      "cell_type": "code",
      "source": [
        "from jax import lax\n",
        "\n",
        "def cumsum(res, el):\n",
        "    \"\"\"\n",
        "    - `res`: The result from the previous loop.\n",
        "    - `el`: The current array element.\n",
        "    \"\"\"\n",
        "    res = res + el\n",
        "    return res, res  # (\"carryover\", \"accumulated\")\n",
        "\n",
        "result_init = 0\n",
        "final, result = lax.scan(cumsum, result_init, a)\n",
        "print(result)"
      ],
      "metadata": {
        "colab": {
          "base_uri": "https://localhost:8080/"
        },
        "id": "Kz0-Cq9fVgWr",
        "outputId": "e3ac69e3-0b24-4c6d-f169-c48ff4510b90"
      },
      "execution_count": null,
      "outputs": [
        {
          "output_type": "stream",
          "name": "stdout",
          "text": [
            "[ 1  3  6 11 18 29 42 59]\n"
          ]
        }
      ]
    },
    {
      "cell_type": "markdown",
      "source": [
        "As you can see, scanned function has to return two things:\n",
        "\n",
        "- One object that gets carried over to the next loop (`carryover`), and\n",
        "- Another object that gets \"accumulated\" into an array (`accumulated`).\n",
        "\n",
        "The starting initial value, `result_init`, is passed into the `scan` function as `res` on the first call of the `scan` function. On subsequent calls, the first `res` is passed back into the `scan` function as the new `res`."
      ],
      "metadata": {
        "id": "XScF03iMVsSQ"
      }
    },
    {
      "cell_type": "markdown",
      "source": [
        "Some examples that we will encounter where the use of `lax.scan` can give significant speed-ups include:\n",
        "- Simulating Markov Chains.\n",
        "- Updating the hidden states of recurrent neural networks.\n",
        "\n",
        "Also notice that, as any other JAX primitive, `lax.scan` can be composed with `vmap`, `jit`, `grad`, etc., allowing us to parallelize, vectorize or even efficiently differentiate through for-loops!"
      ],
      "metadata": {
        "id": "dAF7sYQCWPGD"
      }
    },
    {
      "cell_type": "markdown",
      "source": [
        "## Example: Rejection sampling\n",
        "\n",
        "Recall the code we developed last week for rejection sampling:\n",
        "\n",
        "    def rejection_sampling(iter=1000):\n",
        "        samples = []\n",
        "\n",
        "        for i in trange(iter):\n",
        "            x = np.random.normal(50, 30)\n",
        "            u = np.random.uniform(0, c*q(x))\n",
        "\n",
        "            if u <= p(x):\n",
        "                samples.append(x)\n",
        "\n",
        "        return np.array(samples)\n",
        "\n",
        "Let's see how a `lax.scan` implementation would look like.[link text](https://)"
      ],
      "metadata": {
        "id": "ETpI5R5lYF09"
      }
    },
    {
      "cell_type": "code",
      "source": [
        "import jax.numpy as np\n",
        "from jax import random, jit\n",
        "from jax.scipy.stats import norm\n",
        "from functools import partial\n",
        "import matplotlib.pyplot as plt\n",
        "import seaborn as sns\n",
        "\n",
        "class Proposal:\n",
        "    def __init__(self, dim=1, loc=0.0, scale=1.0):\n",
        "        self.dim = dim\n",
        "        self.loc = loc\n",
        "        self.scale = scale\n",
        "    def sample(self, rng_key):\n",
        "        return self.loc + self.scale*random.normal(rng_key ,(self.dim,))\n",
        "    def pdf(self, x):\n",
        "        return norm.pdf(x, self.loc, self.scale)\n",
        "\n",
        "@partial(jit, static_argnums=(1,2,3,4,))\n",
        "def rejection_sampling(rng_key, num_iters, p, q, c):\n",
        "    def step_fn(key, i):\n",
        "        key, subkey = random.split(key)\n",
        "        x = q.sample(key)\n",
        "        u = random.uniform(subkey, x.shape, minval=0, maxval=c*q.pdf(x))\n",
        "        cond = (u <= p(x))\n",
        "        x = np.where(cond, x, np.nan)\n",
        "        return key, x\n",
        "    _, samples = lax.scan(step_fn, rng_key, np.arange(num_iters))\n",
        "    acceptance_rate = (num_iters-np.sum(np.isnan(samples)))/num_iters\n",
        "    return samples, acceptance_rate"
      ],
      "metadata": {
        "id": "RQXNsvG4YFLx"
      },
      "execution_count": null,
      "outputs": []
    },
    {
      "cell_type": "code",
      "source": [
        "# Target density\n",
        "p = lambda x: norm.pdf(x, loc=30, scale=10) + norm.pdf(x, loc=80, scale=20)\n",
        "# Proposal\n",
        "q = Proposal(dim=1, loc=50, scale=30)\n",
        "# Choose c\n",
        "x = np.arange(-50, 151)\n",
        "c = max(p(x) / q.pdf(x))\n",
        "\n",
        "num_iters = 20000\n",
        "key = random.PRNGKey(0)\n",
        "samples, acceptance_rate = rejection_sampling(key, num_iters, p, q, c)\n",
        "print('Acceptance rate: %f%%' % (acceptance_rate))\n",
        "# Remove rejected samples\n",
        "samples = samples[~np.isnan(samples)]"
      ],
      "metadata": {
        "colab": {
          "base_uri": "https://localhost:8080/"
        },
        "id": "-mzt69_yVpu8",
        "outputId": "6b97441a-6b10-47a3-d17a-b111745b1268"
      },
      "execution_count": null,
      "outputs": [
        {
          "output_type": "stream",
          "name": "stdout",
          "text": [
            "Acceptance rate: 0.507550%\n"
          ]
        }
      ]
    },
    {
      "cell_type": "code",
      "source": [
        "plt.figure(figsize=(12,4))\n",
        "plt.subplot(1,2,1)\n",
        "plt.plot(x, p(x), label = '$p(x)$')\n",
        "plt.plot(x, c*q.pdf(x), label = '$c*q(x)$')\n",
        "plt.legend()\n",
        "plt.xlabel('$x$')\n",
        "plt.ylabel('Density')\n",
        "plt.subplot(1,2,2)\n",
        "sns.histplot(samples)\n",
        "plt.tight_layout()"
      ],
      "metadata": {
        "colab": {
          "base_uri": "https://localhost:8080/",
          "height": 297
        },
        "id": "xtIiXXlMeLhn",
        "outputId": "4ba92bf0-30e5-48c9-9fb2-250a934320ba"
      },
      "execution_count": null,
      "outputs": [
        {
          "output_type": "display_data",
          "data": {
            "image/png": "[encoded data removed]",
            "text/plain": [
              "<Figure size 864x288 with 2 Axes>"
            ]
          },
          "metadata": {
            "needs_background": "light"
          }
        }
      ]
    },
    {
      "cell_type": "code",
      "source": [
        ""
      ],
      "metadata": {
        "id": "E-jBzx6c7W7U"
      },
      "execution_count": null,
      "outputs": []
    }
  ]
}