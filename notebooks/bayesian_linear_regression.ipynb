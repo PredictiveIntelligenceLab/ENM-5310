{
  "nbformat": 4,
  "nbformat_minor": 0,
  "metadata": {
    "colab": {
      "name": "Bayesian_linear_regression.ipynb",
      "provenance": []
    },
    "kernelspec": {
      "name": "python3",
      "display_name": "Python 3"
    }
  },
  "cells": [
    {
      "cell_type": "code",
      "metadata": {
        "colab": {
          "base_uri": "https://localhost:8080/"
        },
        "id": "8HBSJdCJ-MlD",
        "outputId": "54ca49f8-617c-4a49-f94d-68e8d45f1996"
      },
      "source": [
        "!pip install --upgrade pyDOE"
      ],
      "execution_count": 98,
      "outputs": [
        {
          "output_type": "stream",
          "text": [
            "Requirement already up-to-date: pyDOE in /usr/local/lib/python3.6/dist-packages (0.3.8)\n",
            "Requirement already satisfied, skipping upgrade: numpy in /usr/local/lib/python3.6/dist-packages (from pyDOE) (1.19.5)\n",
            "Requirement already satisfied, skipping upgrade: scipy in /usr/local/lib/python3.6/dist-packages (from pyDOE) (1.4.1)\n"
          ],
          "name": "stdout"
        }
      ]
    },
    {
      "cell_type": "code",
      "metadata": {
        "id": "f8-EXoUL9lHj"
      },
      "source": [
        "import jax.numpy as np   \n",
        "from jax import random\n",
        "from jax.scipy.stats import norm\n",
        "from pyDOE import lhs\n",
        "import matplotlib.pyplot as plt"
      ],
      "execution_count": 99,
      "outputs": []
    },
    {
      "cell_type": "code",
      "metadata": {
        "id": "8GhxkKu59s4g"
      },
      "source": [
        "class BayesianLinearRegression:\n",
        "  \"\"\"\n",
        "    Linear regression model: y = (w.T)*x + \\epsilon\n",
        "    w ~ N(0,beta^(-1)I)\n",
        "    P(y|x,w) ~ N(y|(w.T)*x, alpha^(-1)I)\n",
        "  \"\"\"\n",
        "  def __init__(self, X, y, alpha = 1.0, beta = 1.0):\n",
        "      # Store training data\n",
        "      self.X = X\n",
        "      self.y = y\n",
        "      # Store precisions\n",
        "      self.alpha = alpha\n",
        "      self.beta = beta\n",
        "      # Small jitter for numerically stable matrix inversion\n",
        "      self.jitter = 1e-8\n",
        "\n",
        "  # Computes the MLE estimate of the regression weights\n",
        "  def fit_MLE(self):\n",
        "      xTx_inv = np.linalg.inv(np.matmul(self.X.T,self.X) + self.jitter*np.eye(self.X.shape[1]))\n",
        "      xTy = np.matmul(self.X.T, self.y)\n",
        "      w_MLE = np.matmul(xTx_inv, xTy)\n",
        "      self.w_MLE = w_MLE\n",
        "      return w_MLE\n",
        "\n",
        "  # Computes the MAP estimate of the regression weights\n",
        "  def fit_MAP(self):\n",
        "      Lambda = np.matmul(self.X.T,self.X) + \\\n",
        "               (self.beta/self.alpha)*np.eye(self.X.shape[1])\n",
        "      Lambda_inv = np.linalg.inv(Lambda)\n",
        "      xTy = np.matmul(self.X.T, self.y)\n",
        "      mu = np.matmul(Lambda_inv, xTy)\n",
        "      self.w_MAP = mu\n",
        "      self.Lambda_inv = Lambda_inv\n",
        "      return mu, Lambda_inv\n",
        "\n",
        "  # Computes the predictive posterior distribution\n",
        "  def predictive_distribution(self, X_star):\n",
        "      mean_star = np.matmul(X_star, self.w_MAP)\n",
        "      var_star = np.eye(X_star.shape[1])/self.alpha + \\\n",
        "                 np.matmul(X_star, np.matmul(self.Lambda_inv, X_star.T))\n",
        "      return mean_star, var_star\n"
      ],
      "execution_count": 100,
      "outputs": []
    },
    {
      "cell_type": "code",
      "metadata": {
        "id": "kZ5-AZoM-Ih3"
      },
      "source": [
        "# N is the number of training points.\n",
        "N = 25\n",
        "noise_var = 0.2\n",
        "alpha = 1.0/noise_var\n",
        "beta = 0.2"
      ],
      "execution_count": 101,
      "outputs": []
    },
    {
      "cell_type": "code",
      "metadata": {
        "id": "fBB8UGg8-QvX"
      },
      "source": [
        "# Create random input and output data\n",
        "key = random.PRNGKey(0)\n",
        "X = lhs(1, N)\n",
        "y = 5*X\n",
        "y = y + noise_var*random.normal(key, y.shape)"
      ],
      "execution_count": 102,
      "outputs": []
    },
    {
      "cell_type": "code",
      "metadata": {
        "colab": {
          "base_uri": "https://localhost:8080/",
          "height": 282
        },
        "id": "y4gnzzUGPHdf",
        "outputId": "05cac2dc-62c3-4aef-f1cd-dd7457308c42"
      },
      "source": [
        "plt.figure()\n",
        "plt.plot(X, y ,'o')\n",
        "plt.plot(X, 5*X,'-')"
      ],
      "execution_count": 103,
      "outputs": [
        {
          "output_type": "execute_result",
          "data": {
            "text/plain": [
              "[<matplotlib.lines.Line2D at 0x7f776d5db128>]"
            ]
          },
          "metadata": {
            "tags": []
          },
          "execution_count": 103
        },
        {
          "output_type": "display_data",
          "data": {
            "image/png": "[encoded data removed]",
            "text/plain": [
              "<Figure size 432x288 with 1 Axes>"
            ]
          },
          "metadata": {
            "tags": [],
            "needs_background": "light"
          }
        }
      ]
    },
    {
      "cell_type": "code",
      "metadata": {
        "id": "dJIBJvQL-a2J"
      },
      "source": [
        "# Define model\n",
        "model = BayesianLinearRegression(X, y, alpha, beta)"
      ],
      "execution_count": 104,
      "outputs": []
    },
    {
      "cell_type": "code",
      "metadata": {
        "id": "nbTf_A5d-gMD"
      },
      "source": [
        "# Fit MLE and MAP estimates for w\n",
        "w_MLE = model.fit_MLE()\n",
        "w_MAP, Lambda_inv = model.fit_MAP()"
      ],
      "execution_count": 105,
      "outputs": []
    },
    {
      "cell_type": "code",
      "metadata": {
        "colab": {
          "base_uri": "https://localhost:8080/"
        },
        "id": "QkyLRaBAPcjG",
        "outputId": "6e63ea17-871b-4053-e4a9-39b57b89244a"
      },
      "source": [
        "print('MLE estimate: %f' % (w_MLE))\n",
        "print('MAP estimate: %f' % (w_MAP))"
      ],
      "execution_count": 106,
      "outputs": [
        {
          "output_type": "stream",
          "text": [
            "MLE estimate: 4.966377\n",
            "MAP estimate: 4.942791\n"
          ],
          "name": "stdout"
        }
      ]
    },
    {
      "cell_type": "code",
      "metadata": {
        "id": "ikIHkttN-iNl"
      },
      "source": [
        "# Predict at a set of test points\n",
        "X_star = np.linspace(0,1,200)[:,None]\n",
        "y_pred_MLE = np.matmul(X_star, w_MLE)\n",
        "y_pred_MAP = np.matmul(X_star, w_MAP)"
      ],
      "execution_count": 107,
      "outputs": []
    },
    {
      "cell_type": "code",
      "metadata": {
        "id": "BkUG8--q-kAf"
      },
      "source": [
        "# Draw sampes from the predictive posterior\n",
        "num_samples = 20\n",
        "mean_star, var_star = m.predictive_distribution(X_star)\n",
        "samples = random.multivariate_normal(key, mean_star.flatten(), var_star, (num_samples,))\n",
        "percentiles = np.percentile(samples, [5.0, 95.0], axis=0)"
      ],
      "execution_count": 110,
      "outputs": []
    },
    {
      "cell_type": "code",
      "metadata": {
        "colab": {
          "base_uri": "https://localhost:8080/",
          "height": 441
        },
        "id": "bHhuwJAI-oOm",
        "outputId": "5bd9eaa4-6fd9-430f-b8f3-ee7a01c2820f"
      },
      "source": [
        "# Plot\n",
        "plt.figure(1, figsize=(8,6))\n",
        "plt.subplot(1,2,1)\n",
        "plt.plot(X_star, y_pred_MLE, linewidth=3.0, label = 'MLE')\n",
        "plt.plot(X_star, y_pred_MAP, linewidth=3.0, label = 'MAP')\n",
        "plt.fill_between(X_star.flatten(), percentiles[0, :], percentiles[1, :], color='lightblue')\n",
        "# for i in range(0, num_samples):\n",
        "#     plt.plot(X_star, samples[i,:], 'k', linewidth=0.05)\n",
        "plt.plot(X,y,'o', label = 'Data')\n",
        "plt.legend()\n",
        "plt.xlabel('$x$')\n",
        "plt.ylabel('$y$')\n",
        "plt.tight_layout()"
      ],
      "execution_count": 111,
      "outputs": [
        {
          "output_type": "display_data",
          "data": {
            "image/png": "[encoded data removed]",
            "text/plain": [
              "<Figure size 576x432 with 1 Axes>"
            ]
          },
          "metadata": {
            "tags": [],
            "needs_background": "light"
          }
        }
      ]
    },
    {
      "cell_type": "code",
      "metadata": {
        "colab": {
          "base_uri": "https://localhost:8080/",
          "height": 300
        },
        "id": "T49MTnwQ-7KB",
        "outputId": "5a95e3b7-a6fb-44b6-c621-329dd1f2dbc7"
      },
      "source": [
        "# Plot distribution of w\n",
        "plt.subplot(1,2,2)\n",
        "x_axis = np.linspace(0, 10, 1000)[:,None]\n",
        "plt.plot(x_axis, norm.pdf(x_axis,w_MAP,Lambda_inv), label = 'p(w|D)')\n",
        "plt.legend()\n",
        "plt.xlabel('$w$')\n",
        "plt.ylabel('$p(w|D)$')\n",
        "plt.axis('tight')"
      ],
      "execution_count": 112,
      "outputs": [
        {
          "output_type": "execute_result",
          "data": {
            "text/plain": [
              "(-0.5, 10.5, -0.16797806024551393, 3.5275392651557924)"
            ]
          },
          "metadata": {
            "tags": []
          },
          "execution_count": 112
        },
        {
          "output_type": "display_data",
          "data": {
            "image/png": "[encoded data removed]",
            "text/plain": [
              "<Figure size 432x288 with 1 Axes>"
            ]
          },
          "metadata": {
            "tags": [],
            "needs_background": "light"
          }
        }
      ]
    },
    {
      "cell_type": "code",
      "metadata": {
        "id": "lQwIClACQA7p"
      },
      "source": [
        ""
      ],
      "execution_count": null,
      "outputs": []
    }
  ]
}