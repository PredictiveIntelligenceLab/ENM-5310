{
  "cells": [
    {
      "cell_type": "code",
      "execution_count": 1,
      "metadata": {
        "colab": {
          "base_uri": "https://localhost:8080/"
        },
        "id": "Vd4A3ngazpw0",
        "outputId": "2e9925a1-22c9-45d4-99dd-5edb72041abe"
      },
      "outputs": [
        {
          "name": "stdout",
          "output_type": "stream",
          "text": [
            "Looking in indexes: https://pypi.org/simple, https://us-python.pkg.dev/colab-wheels/public/simple/\n",
            "Requirement already satisfied: flax in /usr/local/lib/python3.9/dist-packages (0.6.7)\n",
            "Requirement already satisfied: tensorstore in /usr/local/lib/python3.9/dist-packages (from flax) (0.1.33)\n",
            "Requirement already satisfied: PyYAML>=5.4.1 in /usr/local/lib/python3.9/dist-packages (from flax) (6.0)\n",
            "Requirement already satisfied: numpy>=1.12 in /usr/local/lib/python3.9/dist-packages (from flax) (1.22.4)\n",
            "Requirement already satisfied: rich>=11.1 in /usr/local/lib/python3.9/dist-packages (from flax) (13.3.2)\n",
            "Requirement already satisfied: msgpack in /usr/local/lib/python3.9/dist-packages (from flax) (1.0.5)\n",
            "Requirement already satisfied: jax>=0.4.2 in /usr/local/lib/python3.9/dist-packages (from flax) (0.4.6)\n",
            "Requirement already satisfied: optax in /usr/local/lib/python3.9/dist-packages (from flax) (0.1.4)\n",
            "Requirement already satisfied: typing-extensions>=4.1.1 in /usr/local/lib/python3.9/dist-packages (from flax) (4.5.0)\n",
            "Requirement already satisfied: orbax in /usr/local/lib/python3.9/dist-packages (from flax) (0.1.6)\n",
            "Requirement already satisfied: opt-einsum in /usr/local/lib/python3.9/dist-packages (from jax>=0.4.2->flax) (3.3.0)\n",
            "Requirement already satisfied: scipy>=1.5 in /usr/local/lib/python3.9/dist-packages (from jax>=0.4.2->flax) (1.10.1)\n",
            "Requirement already satisfied: pygments<3.0.0,>=2.13.0 in /usr/local/lib/python3.9/dist-packages (from rich>=11.1->flax) (2.14.0)\n",
            "Requirement already satisfied: markdown-it-py<3.0.0,>=2.2.0 in /usr/local/lib/python3.9/dist-packages (from rich>=11.1->flax) (2.2.0)\n",
            "Requirement already satisfied: chex>=0.1.5 in /usr/local/lib/python3.9/dist-packages (from optax->flax) (0.1.6)\n",
            "Requirement already satisfied: jaxlib>=0.1.37 in /usr/local/lib/python3.9/dist-packages (from optax->flax) (0.4.6+cuda11.cudnn86)\n",
            "Requirement already satisfied: absl-py>=0.7.1 in /usr/local/lib/python3.9/dist-packages (from optax->flax) (1.4.0)\n",
            "Requirement already satisfied: cached_property in /usr/local/lib/python3.9/dist-packages (from orbax->flax) (1.5.2)\n",
            "Requirement already satisfied: importlib_resources in /usr/local/lib/python3.9/dist-packages (from orbax->flax) (5.12.0)\n",
            "Requirement already satisfied: etils in /usr/local/lib/python3.9/dist-packages (from orbax->flax) (1.1.1)\n",
            "Requirement already satisfied: nest_asyncio in /usr/local/lib/python3.9/dist-packages (from orbax->flax) (1.5.6)\n",
            "Requirement already satisfied: dm-tree>=0.1.5 in /usr/local/lib/python3.9/dist-packages (from chex>=0.1.5->optax->flax) (0.1.8)\n",
            "Requirement already satisfied: toolz>=0.9.0 in /usr/local/lib/python3.9/dist-packages (from chex>=0.1.5->optax->flax) (0.12.0)\n",
            "Requirement already satisfied: mdurl~=0.1 in /usr/local/lib/python3.9/dist-packages (from markdown-it-py<3.0.0,>=2.2.0->rich>=11.1->flax) (0.1.2)\n",
            "Requirement already satisfied: zipp>=3.1.0 in /usr/local/lib/python3.9/dist-packages (from importlib_resources->orbax->flax) (3.15.0)\n"
          ]
        }
      ],
      "source": [
        "!pip install --upgrade flax"
      ]
    },
    {
      "cell_type": "code",
      "execution_count": 2,
      "metadata": {
        "colab": {
          "base_uri": "https://localhost:8080/"
        },
        "id": "onA43cj5R7Je",
        "outputId": "e0c9ac65-e6b3-40df-dcfa-8f001eb5f490"
      },
      "outputs": [
        {
          "name": "stderr",
          "output_type": "stream",
          "text": [
            "/usr/local/lib/python3.9/dist-packages/flax/core/frozen_dict.py:169: FutureWarning: jax.tree_util.register_keypaths is deprecated, and will be removed in a future release. Please use `register_pytree_with_keys()` instead.\n",
            "  jax.tree_util.register_keypaths(\n"
          ]
        }
      ],
      "source": [
        "import jax.numpy as jnp\n",
        "import numpy as np\n",
        "from jax import random, vmap, grad, jit\n",
        "from jax.nn import one_hot\n",
        "\n",
        "import flax.linen as nn\n",
        "import optax\n",
        "from sklearn.metrics import confusion_matrix\n",
        "\n",
        "from typing import Any, Callable, Sequence, Optional, Union, Dict\n",
        "\n",
        "import itertools\n",
        "from functools import partial\n",
        "from tqdm import trange\n",
        "import matplotlib.pyplot as plt"
      ]
    },
    {
      "cell_type": "code",
      "execution_count": 3,
      "metadata": {
        "id": "kuT0-C0ztjXN"
      },
      "outputs": [],
      "source": [
        "# Some helper functions for visualization\n",
        "def plot_confusion_matrix(cm, classes,\n",
        "                          normalize=False,\n",
        "                          title='Confusion matrix',\n",
        "                          cmap=plt.cm.Blues):\n",
        "    \"\"\"\n",
        "    This function prints and plots the confusion matrix.\n",
        "    Normalization can be applied by setting `normalize=True`.\n",
        "    \"\"\"\n",
        "    if normalize:\n",
        "        cm = cm.astype('float') / cm.sum(axis=1)[:, np.newaxis]\n",
        "\n",
        "    plt.imshow(cm, interpolation='nearest', cmap=cmap)\n",
        "    plt.title(title)\n",
        "    plt.colorbar()\n",
        "    tick_marks = np.arange(len(classes))\n",
        "    plt.xticks(tick_marks, classes, rotation=45)\n",
        "    plt.yticks(tick_marks, classes)\n",
        "\n",
        "    fmt = '.2f' if normalize else 'd'\n",
        "    thresh = cm.max() / 2.\n",
        "    for i, j in itertools.product(range(cm.shape[0]), range(cm.shape[1])):\n",
        "        plt.text(j, i, format(cm[i, j], fmt),\n",
        "                 horizontalalignment=\"center\",\n",
        "                 color=\"white\" if cm[i, j] > thresh else \"black\")\n",
        "\n",
        "    plt.ylabel('True label')\n",
        "    plt.xlabel('Predicted label')\n",
        "    plt.tight_layout()\n",
        "\n",
        "def plot_filters(conv, shape, title):\n",
        "    plt.figure(figsize=(5,4))\n",
        "    cnt=0\n",
        "    m, n = shape\n",
        "    for i in range(m):\n",
        "      for j in range(n):\n",
        "          cnt+=1\n",
        "          plt.subplot(m,n,cnt)   \n",
        "          plt.imshow(conv[0,:,:,cnt]) \n",
        "          plt.axis('off')\n",
        "    fig = plt.gcf()\n",
        "    fig.suptitle(title)"
      ]
    },
    {
      "cell_type": "code",
      "execution_count": 4,
      "metadata": {
        "id": "6wE_lq76fCmQ"
      },
      "outputs": [],
      "source": [
        "class ConvNet(nn.Module):\n",
        "    out_channels: Sequence[int]\n",
        "    out_dim: int=8\n",
        "    activation: Callable=nn.gelu\n",
        "\n",
        "    @nn.compact\n",
        "    def __call__(self, x):\n",
        "        for i in range(len(self.out_channels)):\n",
        "            x = nn.Conv(self.out_channels[i],  kernel_size=(5,5), strides=(1,1), padding=\"SAME\")(x)\n",
        "            x = self.activation(x)\n",
        "            x = nn.max_pool(x, (2,2), (2,2))\n",
        "        x = nn.Dense(self.out_dim)(x.flatten())\n",
        "        return nn.softmax(x)"
      ]
    },
    {
      "cell_type": "code",
      "execution_count": 5,
      "metadata": {
        "id": "rDE4X7ZDSg4j"
      },
      "outputs": [],
      "source": [
        "class CNNclassifier:\n",
        "    # Initialize the class\n",
        "    def __init__(self, arch, rng_key=random.PRNGKey(0)):\n",
        "        \n",
        "        # Initialization and evaluation functions\n",
        "        inputs = jnp.ones((28,28,1))\n",
        "        self.model = arch\n",
        "        self.params = self.model.init(rng_key, inputs)\n",
        "        print(self.model.tabulate(rng_key, inputs))\n",
        "        self.apply = vmap(self.model.apply, in_axes=(None,0))\n",
        "\n",
        "        # Optimizer\n",
        "        lr = optax.exponential_decay(1e-3, transition_steps=1000, decay_rate=0.9)\n",
        "        self.optimizer = optax.adam(learning_rate=lr)\n",
        "        self.opt_state = self.optimizer.init(self.params)\n",
        "\n",
        "        # Logger\n",
        "        self.itercount = itertools.count()\n",
        "        self.loss_log = []\n",
        "\n",
        "    def loss(self, params, batch):\n",
        "        images, labels = batch\n",
        "        outputs = self.apply(params, images)\n",
        "        loss = -labels*jnp.log(outputs)\n",
        "        return jnp.mean(loss)\n",
        "\n",
        "    # Define a compiled update step\n",
        "    @partial(jit, static_argnums=(0,))\n",
        "    def step(self, params, opt_state, batch):\n",
        "        grads = grad(self.loss)(params, batch)\n",
        "        updates, opt_state = self.optimizer.update(grads, opt_state, params)\n",
        "        params = optax.apply_updates(params, updates)\n",
        "        return params, opt_state\n",
        "\n",
        "    # Optimize parameters in a loop\n",
        "    def train(self, dataset, nIter = 10000):\n",
        "        data = iter(dataset)\n",
        "        pbar = trange(nIter)\n",
        "        # Main training loop\n",
        "        for it in pbar:\n",
        "            batch = next(data)\n",
        "            self.params, self.opt_state = self.step(self.params, self.opt_state, batch)\n",
        "            # Logger\n",
        "            if it % 100 == 0:\n",
        "                loss = self.loss(self.params, batch)\n",
        "                self.loss_log.append(loss)\n",
        "                pbar.set_postfix({'loss': loss})"
      ]
    },
    {
      "cell_type": "code",
      "execution_count": 6,
      "metadata": {
        "id": "2lP2vETvR_Kv"
      },
      "outputs": [],
      "source": [
        "import torchvision as tv\n",
        "\n",
        "# Training data\n",
        "train = tv.datasets.MNIST('./', download=True, train=True)\n",
        "train_images = jnp.array(train.data.numpy())\n",
        "train_labels = jnp.array(train.targets.numpy())\n",
        "\n",
        "# Input shape should be (NxWxHxC) and normalized to [0,1]\n",
        "train_images = train_images[:,:,:,jnp.newaxis]/255.\n",
        "# Labels should be a one-hot vector\n",
        "num_classes = train_labels.max()+1\n",
        "train_labels = one_hot(train_labels, num_classes)"
      ]
    },
    {
      "cell_type": "code",
      "execution_count": 7,
      "metadata": {
        "id": "hoZ-oZWh5zXL"
      },
      "outputs": [],
      "source": [
        "from torch.utils import data\n",
        "\n",
        "class DataGenerator(data.Dataset):\n",
        "    def __init__(self, images, labels, \n",
        "                 batch_size=128, \n",
        "                 rng_key=random.PRNGKey(1234)):\n",
        "        'Initialization'\n",
        "        self.images = images\n",
        "        self.labels = labels\n",
        "        self.N = labels.shape[0]\n",
        "        self.batch_size = batch_size\n",
        "        self.key = rng_key\n",
        "\n",
        "    @partial(jit, static_argnums=(0,))\n",
        "    def __data_generation(self, key, images, labels):\n",
        "        'Generates data containing batch_size samples'\n",
        "        idx = random.choice(key, self.N, (self.batch_size,), replace=False)\n",
        "        images = images[idx,...]\n",
        "        labels = labels[idx,...]\n",
        "        return images, labels\n",
        "\n",
        "    def __getitem__(self, index):\n",
        "        'Generate one batch of data'\n",
        "        self.key, subkey = random.split(self.key)\n",
        "        images, labels = self.__data_generation(self.key, self.images, self.labels)\n",
        "        return images, labels"
      ]
    },
    {
      "cell_type": "code",
      "execution_count": 8,
      "metadata": {
        "id": "2NGmF9XIfwQ-"
      },
      "outputs": [],
      "source": [
        "# Create data iteraror\n",
        "train_dataset = DataGenerator(train_images, train_labels, batch_size=128)\n",
        "data = iter(train_dataset)\n",
        "batch = next(data)"
      ]
    },
    {
      "cell_type": "code",
      "execution_count": 9,
      "metadata": {
        "colab": {
          "base_uri": "https://localhost:8080/"
        },
        "id": "cvrxfPj5go6w",
        "outputId": "db5154c4-ecf7-4baa-a1d3-c2072c5676d6"
      },
      "outputs": [
        {
          "name": "stdout",
          "output_type": "stream",
          "text": [
            "(128, 28, 28, 1)\n"
          ]
        }
      ],
      "source": [
        "inputs, targets = batch\n",
        "print(inputs.shape)"
      ]
    },
    {
      "cell_type": "code",
      "execution_count": 11,
      "metadata": {
        "colab": {
          "base_uri": "https://localhost:8080/"
        },
        "id": "UTg1n1k_62Gq",
        "outputId": "0bce2f48-45ed-46d5-80e7-8dade62011e2"
      },
      "outputs": [
        {
          "name": "stdout",
          "output_type": "stream",
          "text": [
            "\n",
            "\u001b[3m                                ConvNet Summary                                 \u001b[0m\n",
            "┏━━━━━━━━━┳━━━━━━━━━┳━━━━━━━━━━━━━━━━━━┳━━━━━━━━━━━━━━━━━━━┳━━━━━━━━━━━━━━━━━━━┓\n",
            "┃\u001b[1m \u001b[0m\u001b[1mpath   \u001b[0m\u001b[1m \u001b[0m┃\u001b[1m \u001b[0m\u001b[1mmodule \u001b[0m\u001b[1m \u001b[0m┃\u001b[1m \u001b[0m\u001b[1minputs          \u001b[0m\u001b[1m \u001b[0m┃\u001b[1m \u001b[0m\u001b[1moutputs          \u001b[0m\u001b[1m \u001b[0m┃\u001b[1m \u001b[0m\u001b[1mparams           \u001b[0m\u001b[1m \u001b[0m┃\n",
            "┡━━━━━━━━━╇━━━━━━━━━╇━━━━━━━━━━━━━━━━━━╇━━━━━━━━━━━━━━━━━━━╇━━━━━━━━━━━━━━━━━━━┩\n",
            "│         │ ConvNet │ \u001b[2mfloat32\u001b[0m[28,28,1] │ \u001b[2mfloat32\u001b[0m[10]       │ Conv_0:           │\n",
            "│         │         │                  │                   │   bias:           │\n",
            "│         │         │                  │                   │ \u001b[2mfloat32\u001b[0m[8]        │\n",
            "│         │         │                  │                   │   kernel:         │\n",
            "│         │         │                  │                   │ \u001b[2mfloat32\u001b[0m[5,5,1,8]  │\n",
            "│         │         │                  │                   │ Conv_1:           │\n",
            "│         │         │                  │                   │   bias:           │\n",
            "│         │         │                  │                   │ \u001b[2mfloat32\u001b[0m[16]       │\n",
            "│         │         │                  │                   │   kernel:         │\n",
            "│         │         │                  │                   │ \u001b[2mfloat32\u001b[0m[5,5,8,16] │\n",
            "│         │         │                  │                   │ Conv_2:           │\n",
            "│         │         │                  │                   │   bias:           │\n",
            "│         │         │                  │                   │ \u001b[2mfloat32\u001b[0m[32]       │\n",
            "│         │         │                  │                   │   kernel:         │\n",
            "│         │         │                  │                   │ \u001b[2mfloat32\u001b[0m[5,5,16,3… │\n",
            "│         │         │                  │                   │ Dense_0:          │\n",
            "│         │         │                  │                   │   bias:           │\n",
            "│         │         │                  │                   │ \u001b[2mfloat32\u001b[0m[10]       │\n",
            "│         │         │                  │                   │   kernel:         │\n",
            "│         │         │                  │                   │ \u001b[2mfloat32\u001b[0m[288,10]   │\n",
            "│         │         │                  │                   │                   │\n",
            "│         │         │                  │                   │ \u001b[1m19,146 \u001b[0m\u001b[1;2m(76.6 KB)\u001b[0m  │\n",
            "├─────────┼─────────┼──────────────────┼───────────────────┼───────────────────┤\n",
            "│ Conv_0  │ Conv    │ \u001b[2mfloat32\u001b[0m[28,28,1] │ \u001b[2mfloat32\u001b[0m[28,28,8]  │ bias: \u001b[2mfloat32\u001b[0m[8]  │\n",
            "│         │         │                  │                   │ kernel:           │\n",
            "│         │         │                  │                   │ \u001b[2mfloat32\u001b[0m[5,5,1,8]  │\n",
            "│         │         │                  │                   │                   │\n",
            "│         │         │                  │                   │ \u001b[1m208 \u001b[0m\u001b[1;2m(832 B)\u001b[0m       │\n",
            "├─────────┼─────────┼──────────────────┼───────────────────┼───────────────────┤\n",
            "│ Conv_1  │ Conv    │ \u001b[2mfloat32\u001b[0m[14,14,8] │ \u001b[2mfloat32\u001b[0m[14,14,16] │ bias: \u001b[2mfloat32\u001b[0m[16] │\n",
            "│         │         │                  │                   │ kernel:           │\n",
            "│         │         │                  │                   │ \u001b[2mfloat32\u001b[0m[5,5,8,16] │\n",
            "│         │         │                  │                   │                   │\n",
            "│         │         │                  │                   │ \u001b[1m3,216 \u001b[0m\u001b[1;2m(12.9 KB)\u001b[0m   │\n",
            "├─────────┼─────────┼──────────────────┼───────────────────┼───────────────────┤\n",
            "│ Conv_2  │ Conv    │ \u001b[2mfloat32\u001b[0m[7,7,16]  │ \u001b[2mfloat32\u001b[0m[7,7,32]   │ bias: \u001b[2mfloat32\u001b[0m[32] │\n",
            "│         │         │                  │                   │ kernel:           │\n",
            "│         │         │                  │                   │ \u001b[2mfloat32\u001b[0m[5,5,16,3… │\n",
            "│         │         │                  │                   │                   │\n",
            "│         │         │                  │                   │ \u001b[1m12,832 \u001b[0m\u001b[1;2m(51.3 KB)\u001b[0m  │\n",
            "├─────────┼─────────┼──────────────────┼───────────────────┼───────────────────┤\n",
            "│ Dense_0 │ Dense   │ \u001b[2mfloat32\u001b[0m[288]     │ \u001b[2mfloat32\u001b[0m[10]       │ bias: \u001b[2mfloat32\u001b[0m[10] │\n",
            "│         │         │                  │                   │ kernel:           │\n",
            "│         │         │                  │                   │ \u001b[2mfloat32\u001b[0m[288,10]   │\n",
            "│         │         │                  │                   │                   │\n",
            "│         │         │                  │                   │ \u001b[1m2,890 \u001b[0m\u001b[1;2m(11.6 KB)\u001b[0m   │\n",
            "├─────────┼─────────┼──────────────────┼───────────────────┼───────────────────┤\n",
            "│\u001b[1m \u001b[0m\u001b[1m       \u001b[0m\u001b[1m \u001b[0m│\u001b[1m \u001b[0m\u001b[1m       \u001b[0m\u001b[1m \u001b[0m│\u001b[1m \u001b[0m\u001b[1m                \u001b[0m\u001b[1m \u001b[0m│\u001b[1m \u001b[0m\u001b[1m            Total\u001b[0m\u001b[1m \u001b[0m│\u001b[1m \u001b[0m\u001b[1m38,292 \u001b[0m\u001b[1;2m(153.2 KB)\u001b[0m\u001b[1m \u001b[0m│\n",
            "└─────────┴─────────┴──────────────────┴───────────────────┴───────────────────┘\n",
            "\u001b[1m                                                                                \u001b[0m\n",
            "\u001b[1m                      Total Parameters: 38,292 \u001b[0m\u001b[1;2m(153.2 KB)\u001b[0m\u001b[1m                       \u001b[0m\n",
            "\n",
            "\n"
          ]
        }
      ],
      "source": [
        "# Initialize model\n",
        "arch = ConvNet(out_channels=(8, 16, 32),\n",
        "               out_dim=num_classes,\n",
        "               activation=nn.gelu)\n",
        "model = CNNclassifier(arch)"
      ]
    },
    {
      "cell_type": "code",
      "execution_count": 12,
      "metadata": {
        "colab": {
          "base_uri": "https://localhost:8080/",
          "height": 335
        },
        "id": "nBgtvVJA7yvL",
        "outputId": "927f14cf-c48d-467f-fd31-3df1e4a7ff54"
      },
      "outputs": [
        {
          "name": "stderr",
          "output_type": "stream",
          "text": [
            "100%|██████████| 5000/5000 [00:18<00:00, 272.18it/s, loss=0.00036725946]\n"
          ]
        },
        {
          "data": {
            "text/plain": [
              "Text(0, 0.5, 'Loss')"
            ]
          },
          "execution_count": 12,
          "metadata": {},
          "output_type": "execute_result"
        },
        {
          "data": {
            "image/png": "[encoded data removed]",
            "text/plain": [
              "<Figure size 432x288 with 1 Axes>"
            ]
          },
          "metadata": {
            "needs_background": "light"
          },
          "output_type": "display_data"
        }
      ],
      "source": [
        "# Train model\n",
        "model.train(train_dataset, nIter=5000)\n",
        "\n",
        "# Plot loss\n",
        "plt.figure()\n",
        "plt.plot(model.loss_log, lw=2)\n",
        "plt.yscale('log')\n",
        "plt.xlabel('Iter #')\n",
        "plt.ylabel('Loss')"
      ]
    },
    {
      "cell_type": "code",
      "execution_count": 13,
      "metadata": {
        "id": "QGNzo3jJ8Hzx"
      },
      "outputs": [],
      "source": [
        "# Test data\n",
        "test = tv.datasets.MNIST('./', download=True, train=False)\n",
        "test_images = jnp.array(test.data.numpy())\n",
        "test_labels = jnp.array(test.targets.numpy())\n",
        "\n",
        "# Input shape should be (NxWxHxC) and normalized to [0,1]\n",
        "test_images = test_images[:,:,:,jnp.newaxis]/255.\n",
        "test_labels = one_hot(test_labels, num_classes)\n",
        "\n",
        "# Create data iteraror\n",
        "test_dataset = DataGenerator(test_images, test_labels, batch_size=6)\n",
        "test_data = iter(test_dataset)"
      ]
    },
    {
      "cell_type": "code",
      "execution_count": 15,
      "metadata": {
        "colab": {
          "base_uri": "https://localhost:8080/"
        },
        "id": "ejcfXX6_8tjs",
        "outputId": "3c30e9d1-8b4b-464b-d3ae-baf24818dff8"
      },
      "outputs": [
        {
          "name": "stdout",
          "output_type": "stream",
          "text": [
            "Classification accuracy: 99.0199966430664%\n"
          ]
        }
      ],
      "source": [
        "# Compute classification accuracy on the entire test data-set\n",
        "@jit\n",
        "def accuracy(params, batch):\n",
        "    images, labels = batch\n",
        "    outputs = model.apply(params, images)\n",
        "    pred_class = jnp.argmax(outputs,1)\n",
        "    true_class = jnp.argmax(labels,1)\n",
        "    return np.sum((pred_class == true_class)) / images.shape[0]\n",
        "\n",
        "acc = accuracy(model.params, (test_images, test_labels))\n",
        "print('Classification accuracy: {}%'.format(100*acc))"
      ]
    },
    {
      "cell_type": "code",
      "execution_count": null,
      "metadata": {
        "id": "olrpVx379RH2"
      },
      "outputs": [],
      "source": [
        "# Plot the confusion matrix\n",
        "outputs = model.model.apply(model.params, test_images)\n",
        "pred_class = jnp.argmax(outputs,1)\n",
        "true_class = jnp.argmax(test_labels,1)\n",
        "M = confusion_matrix(true_class, pred_class)\n",
        "plt.figure()\n",
        "plot_confusion_matrix(M, classes=np.arange(num_classes), normalize=False)"
      ]
    },
    {
      "cell_type": "code",
      "execution_count": 16,
      "metadata": {
        "colab": {
          "base_uri": "https://localhost:8080/",
          "height": 284
        },
        "id": "OZuc4RKc9ZMH",
        "outputId": "e85042ed-7728-4216-aadc-7e30c735889a"
      },
      "outputs": [
        {
          "data": {
            "image/png": "[encoded data removed]",
            "text/plain": [
              "<Figure size 2016x288 with 6 Axes>"
            ]
          },
          "metadata": {
            "needs_background": "light"
          },
          "output_type": "display_data"
        }
      ],
      "source": [
        "# Visualize some predictions\n",
        "batch = next(test_data)\n",
        "images, labels = batch\n",
        "plt.figure(figsize=(28,4))\n",
        "for i in range(6):\n",
        "    plt.subplot(1,6,i+1)\n",
        "    outputs = model.apply(model.params, images[i:i+1,...])\n",
        "    pred_class = np.argmax(outputs,1)\n",
        "    plt.imshow(images[i,:,:,0])\n",
        "    plt.axis('off')\n",
        "    plt.title('This is a {}'.format(pred_class[0]))"
      ]
    }
  ],
  "metadata": {
    "accelerator": "GPU",
    "colab": {
      "provenance": []
    },
    "gpuClass": "standard",
    "kernelspec": {
      "display_name": "Python 3",
      "name": "python3"
    },
    "language_info": {
      "name": "python"
    }
  },
  "nbformat": 4,
  "nbformat_minor": 0
}
