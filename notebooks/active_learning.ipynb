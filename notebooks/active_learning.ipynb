{
  "nbformat": 4,
  "nbformat_minor": 0,
  "metadata": {
    "colab": {
      "name": "active_learning.ipynb",
      "provenance": [],
      "collapsed_sections": []
    },
    "kernelspec": {
      "name": "python3",
      "display_name": "Python 3"
    },
    "language_info": {
      "name": "python"
    }
  },
  "cells": [
    {
      "cell_type": "code",
      "metadata": {
        "colab": {
          "base_uri": "https://localhost:8080/"
        },
        "id": "tZg2SMxtYriF",
        "outputId": "cb46ded3-f46a-44a9-a59f-74ba903b79fb"
      },
      "source": [
        "!pip install --upgrade PyDOE"
      ],
      "execution_count": 1,
      "outputs": [
        {
          "output_type": "stream",
          "text": [
            "Requirement already up-to-date: PyDOE in /usr/local/lib/python3.7/dist-packages (0.3.8)\n",
            "Requirement already satisfied, skipping upgrade: scipy in /usr/local/lib/python3.7/dist-packages (from PyDOE) (1.4.1)\n",
            "Requirement already satisfied, skipping upgrade: numpy in /usr/local/lib/python3.7/dist-packages (from PyDOE) (1.19.5)\n"
          ],
          "name": "stdout"
        }
      ]
    },
    {
      "cell_type": "code",
      "metadata": {
        "id": "Vy0ikHoD4qVg"
      },
      "source": [
        "import jax.numpy as np\n",
        "import numpy as onp\n",
        "from jax import vmap, jit, vjp, random\n",
        "from jax.scipy.linalg import cholesky, solve_triangular\n",
        "\n",
        "from jax.config import config\n",
        "config.update(\"jax_enable_x64\", True)\n",
        "\n",
        "from pyDOE import lhs\n",
        "from functools import partial\n",
        "from tqdm import trange\n",
        "from scipy.optimize import minimize\n",
        "import matplotlib.pyplot as plt\n",
        "from matplotlib import rc\n",
        "\n",
        "onp.random.seed(1234)"
      ],
      "execution_count": 2,
      "outputs": []
    },
    {
      "cell_type": "code",
      "metadata": {
        "id": "5wJ_sclG57Le"
      },
      "source": [
        "# A vectorized RBF kernel function\n",
        "def RBF(x1, x2, params):\n",
        "    output_scale = params[0]\n",
        "    lengthscales = params[1:]\n",
        "    diffs = np.expand_dims(x1 / lengthscales, 1) - \\\n",
        "            np.expand_dims(x2 / lengthscales, 0)\n",
        "    r2 = np.sum(diffs**2, axis=2)\n",
        "    return output_scale * np.exp(-0.5 * r2)"
      ],
      "execution_count": 3,
      "outputs": []
    },
    {
      "cell_type": "code",
      "metadata": {
        "id": "c0za807P6P8h"
      },
      "source": [
        "# A wrapper to call SciPy's L-BFGS-B optimizer\n",
        "def minimize_lbfgs(objective, x0, bnds = None):\n",
        "    result = minimize(objective, x0, jac=True,\n",
        "                      method='L-BFGS-B', bounds = bnds,\n",
        "                      callback=None)\n",
        "    return result.x, result.fun"
      ],
      "execution_count": 4,
      "outputs": []
    },
    {
      "cell_type": "code",
      "metadata": {
        "id": "XW9de_D24vrh"
      },
      "source": [
        "# A minimal Gaussian process class\n",
        "class GPRegression:\n",
        "    # Initialize the class\n",
        "    def __init__(self, kernel_fn = RBF, acq_fn = None): \n",
        "        self.kernel = kernel_fn\n",
        "        self.acq_fn = acq_fn\n",
        "                              \n",
        "    def random_init_GP(self, rng_key, dim):\n",
        "        logsigma_f = np.log(50.0*random.uniform(rng_key, (1,)))\n",
        "        loglength  = np.log(random.uniform(rng_key, (dim,)) + 1e-8)\n",
        "        logsigma_n = np.array([-4.0]) + random.normal(rng_key, (1,))\n",
        "        hyp = np.concatenate([logsigma_f, loglength, logsigma_n])\n",
        "        return hyp\n",
        "\n",
        "    def compute_cholesky(self, params, batch):\n",
        "        X, _ = batch\n",
        "        N, D = X.shape\n",
        "        # Fetch params\n",
        "        sigma_n = np.exp(params[-1])\n",
        "        theta = np.exp(params[:-1])\n",
        "        # Compute kernel\n",
        "        K = self.kernel(X, X, theta) + np.eye(N)*(sigma_n + 1e-8)\n",
        "        L = cholesky(K, lower=True)\n",
        "        return L\n",
        "\n",
        "    def likelihood(self, params, batch):\n",
        "        _, y = batch\n",
        "        N = y.shape[0]\n",
        "        # Compute Cholesky\n",
        "        L = self.compute_cholesky(params, batch)\n",
        "        # Compute negative log-marginal likelihood\n",
        "        alpha = solve_triangular(L.T,solve_triangular(L, y, lower=True))\n",
        "        NLML = 0.5*np.matmul(np.transpose(y),alpha) + \\\n",
        "               np.sum(np.log(np.diag(L))) + 0.5*N*np.log(2.0*np.pi)\n",
        "        return NLML\n",
        "\n",
        "    @partial(jit, static_argnums=(0,))\n",
        "    def likelihood_value_and_grad(self, params, batch):\n",
        "        fun = lambda params: self.likelihood(params, batch)\n",
        "        primals, f_vjp = vjp(fun, params)\n",
        "        grads = f_vjp(np.ones_like(primals))[0]\n",
        "        return primals, grads\n",
        "\n",
        "    def train(self, batch, rng_key, num_restarts = 10):\n",
        "        # Define objective that returns NumPy arrays (to be minimized with SciPy)\n",
        "        def objective(params):\n",
        "            value, grads = self.likelihood_value_and_grad(params, batch)\n",
        "            out = (onp.array(value), onp.array(grads))\n",
        "            return out\n",
        "        # Optimize with random restarts\n",
        "        params = []\n",
        "        likelihood = []\n",
        "        X, _ = batch\n",
        "        dim = X.shape[1]\n",
        "        rng_key = random.split(rng_key, num_restarts)\n",
        "        for i in trange(num_restarts):\n",
        "            init = self.random_init_GP(rng_key[i], dim)\n",
        "            p, val = minimize_lbfgs(objective, init)\n",
        "            params.append(p)\n",
        "            likelihood.append(val)\n",
        "        params = np.vstack(params)\n",
        "        likelihood = np.vstack(likelihood)\n",
        "        #### find the best likelihood (excluding any NaNs) ####\n",
        "        bestlikelihood = np.nanmin(likelihood)\n",
        "        idx_best = np.where(likelihood == bestlikelihood)\n",
        "        idx_best = idx_best[0][0]\n",
        "        best_params = params[idx_best,:]\n",
        "        return best_params\n",
        "\n",
        "    @partial(jit, static_argnums=(0,))\n",
        "    def predict(self, params, batch, X_star):\n",
        "        X, y = batch\n",
        "        # Fetch params\n",
        "        sigma_n = np.exp(params[-1])\n",
        "        theta = np.exp(params[:-1])\n",
        "        # Compute kernels\n",
        "        k_pp = self.kernel(X_star, X_star, theta) + np.eye(X_star.shape[0])*(sigma_n + 1e-8)\n",
        "        k_pX = self.kernel(X_star, X, theta)\n",
        "        L = self.compute_cholesky(params, batch)\n",
        "        alpha = solve_triangular(L.T,solve_triangular(L, y, lower=True))\n",
        "        beta  = solve_triangular(L.T,solve_triangular(L, k_pX.T, lower=True))\n",
        "        # Compute predictive mean, std\n",
        "        mu = np.matmul(k_pX, alpha)\n",
        "        cov = k_pp - np.matmul(k_pX, beta)\n",
        "        std = np.sqrt(np.clip(np.diag(cov), a_min=0.))\n",
        "        return mu, std\n",
        "\n",
        "    @partial(jit, static_argnums=(0,))\n",
        "    def draw_posterior_sample(self, rng_key, params, batch, X_star):\n",
        "        X, y = batch\n",
        "        N, D = X.shape\n",
        "        # Fetch params\n",
        "        sigma_n = np.exp(params[-1])\n",
        "        theta = np.exp(params[:-1])\n",
        "        # Compute kernels\n",
        "        k_pp = self.kernel(X_star, X_star, theta) + np.eye(X_star.shape[0])*(sigma_n + 1e-8)\n",
        "        k_pX = self.kernel(X_star, X, theta)\n",
        "        L = self.compute_cholesky(params, batch)\n",
        "        alpha = solve_triangular(L.T,solve_triangular(L, y, lower=True))\n",
        "        beta  = solve_triangular(L.T,solve_triangular(L, k_pX.T, lower=True))\n",
        "        # Compute predictive mean\n",
        "        mu = np.matmul(k_pX, alpha)\n",
        "        cov = k_pp - np.matmul(k_pX, beta)\n",
        "        sample = random.multivariate_normal(rng_key, mu, cov)\n",
        "        return sample    \n",
        "\n",
        "    def acquisition(self, params, batch, x):\n",
        "        x = x[None,:]\n",
        "        mean, std = self.predict(params, batch, x)\n",
        "        if self.acq_fn == 'LCB':\n",
        "            NotImplementedError\n",
        "        elif self.acq_fn == 'PI':\n",
        "            NotImplementedError\n",
        "        elif self.acq_fn == 'EI':\n",
        "            NotImplementedError            \n",
        "        elif self.acq_fn == 'US':\n",
        "            return -std[0]\n",
        "        else:\n",
        "            raise NotImplementedError\n",
        "\n",
        "    @partial(jit, static_argnums=(0,))\n",
        "    def acq_value_and_grad(self, params, batch, x):\n",
        "        fun = lambda x: self.acquisition(params, batch, x)\n",
        "        primals, f_vjp = vjp(fun, x)\n",
        "        grads = f_vjp(np.ones_like(primals))[0]\n",
        "        return primals, grads\n",
        "\n",
        "    def next_best_point(self, params, batch, bounds, rng_key, num_restarts = 10):\n",
        "        # Define objective that returns NumPy arrays\n",
        "        def objective(x):\n",
        "            x = (x - lb)/(ub-lb)\n",
        "            value, grads = self.acq_value_and_grad(params, batch, x)\n",
        "            out = (onp.array(value), onp.array(grads))\n",
        "            return out\n",
        "        # Optimize with random restarts\n",
        "        loc = []\n",
        "        acq = []\n",
        "        lb, ub = bounds\n",
        "        dim = lb.shape[0]\n",
        "        onp.random.seed(rng_key[0])\n",
        "        x0 = lb + (ub-lb)*lhs(dim, num_restarts)\n",
        "        dom_bounds = tuple(map(tuple, np.vstack((lb, ub)).T))\n",
        "        for i in trange(num_restarts):\n",
        "            pos, val = minimize_lbfgs(objective, x0[i,:], bnds = dom_bounds)\n",
        "            loc.append(pos)\n",
        "            acq.append(val)\n",
        "        loc = np.vstack(loc)\n",
        "        acq = np.vstack(acq)\n",
        "        idx_best = np.argmin(acq)\n",
        "        x_new = loc[idx_best:idx_best+1,:]\n",
        "        return x_new"
      ],
      "execution_count": 5,
      "outputs": []
    },
    {
      "cell_type": "code",
      "metadata": {
        "id": "bhs4-EiRS1Is"
      },
      "source": [
        "def branin():\n",
        "    dim = 2\n",
        "    lb = np.array([-5.0, 0.0])\n",
        "    ub = np.array([10.0, 15.0])\n",
        "    def f(x):\n",
        "        a = 1.0\n",
        "        b = 5.1 / (4*np.pi**2)\n",
        "        c = 5 / np.pi\n",
        "        r = 6\n",
        "        s = 10\n",
        "        t = 1 / (8*np.pi)\n",
        "        x1, x2 = x[0], x[1]\n",
        "        y = a * (x2 - b*x1**2 + c*x1 -r)**2 + s * (1-t) * np.cos(x1) + s\n",
        "        return y\n",
        "    return f, dim, (lb, ub)"
      ],
      "execution_count": 6,
      "outputs": []
    },
    {
      "cell_type": "code",
      "metadata": {
        "id": "vI1w0vhzS5lQ",
        "colab": {
          "base_uri": "https://localhost:8080/"
        },
        "outputId": "8051b010-b513-4cdf-dc81-49710cca0953"
      },
      "source": [
        "# Define test function\n",
        "f, dim, bounds = branin()\n",
        "\n",
        "# Problem settings\n",
        "N = 10\n",
        "noise = 0.0\n",
        "lb, ub = bounds\n",
        "\n",
        "# Initial training data\n",
        "X = lb + (ub-lb)*lhs(dim, N)\n",
        "y = vmap(f)(X)\n",
        "y = y + noise*y.std(0)*onp.random.randn(N,)\n",
        "\n",
        "# Test data\n",
        "nn = 80\n",
        "xx = np.linspace(lb[0], ub[0], nn)\n",
        "yy = np.linspace(lb[1], ub[1], nn)\n",
        "XX, YY = np.meshgrid(xx, yy)\n",
        "X_star = np.concatenate([XX.flatten()[:,None], \n",
        "                          YY.flatten()[:,None]], axis = 1)\n",
        "y_star = vmap(f)(X_star)\n",
        "\n",
        "# Normalized test inputs\n",
        "X_test = (X_star - lb)/(ub-lb)"
      ],
      "execution_count": 7,
      "outputs": [
        {
          "output_type": "stream",
          "text": [
            "WARNING:absl:No GPU/TPU found, falling back to CPU. (Set TF_CPP_MIN_LOG_LEVEL=0 and rerun for more info.)\n"
          ],
          "name": "stderr"
        }
      ]
    },
    {
      "cell_type": "code",
      "metadata": {
        "id": "AcmniiaSTKzK"
      },
      "source": [
        "model = GPRegression(kernel_fn = RBF, acq_fn = 'US')"
      ],
      "execution_count": 8,
      "outputs": []
    },
    {
      "cell_type": "code",
      "metadata": {
        "colab": {
          "base_uri": "https://localhost:8080/"
        },
        "id": "97o8Rd5pTRtj",
        "outputId": "1b4c2713-fc9e-4048-dc70-69762d9f3192"
      },
      "source": [
        "# Active learning loop\n",
        "num_iter = 25\n",
        "error_log = []\n",
        "\n",
        "for it in range(num_iter):\n",
        "    print('\\n')\n",
        "    print('-------------------------------------------------------------------')\n",
        "    print('------------------------- Iteration %d/%d -------------------------' % (it+1, num_iter))\n",
        "    print('-------------------------------------------------------------------')\n",
        "\n",
        "    # Normalize training data\n",
        "    mu_y, sigma_y = y.mean(0), y.std(0)\n",
        "    X_train = (X - lb)/(ub-lb)\n",
        "    y_train = (y - mu_y)/sigma_y\n",
        "\n",
        "    # Train model\n",
        "    print('\\nTrain GP...')\n",
        "    train_key = random.PRNGKey(it)\n",
        "    opt_params = model.train((X_train, y_train), train_key, num_restarts = 50)\n",
        "\n",
        "    # Select next best point\n",
        "    print('\\nCompute next acquisition point...')\n",
        "    new_X = model.next_best_point(opt_params, (X_train, y_train), bounds, train_key, num_restarts = 50)\n",
        "\n",
        "    # Acquire data\n",
        "    new_y = vmap(f)(new_X)\n",
        "    new_y = new_y + noise*new_y.std(0)*onp.random.randn(1,)\n",
        "\n",
        "    # Augment training data\n",
        "    X = np.concatenate([X, new_X], axis = 0)\n",
        "    y = np.concatenate([y, new_y], axis = 0)\n",
        "\n",
        "    # Monitor prediction error\n",
        "    mean, std = model.predict(opt_params, (X_train, y_train), X_test)\n",
        "    mean, std = mean*sigma_y + mu_y, std*sigma_y      # De-normalize predictions\n",
        "    error = np.linalg.norm(mean-y_star,2)/np.linalg.norm(y_star,2)\n",
        "    print('\\nRelative L2 error: %e\\n' % (error))\n",
        "    error_log.append(error)"
      ],
      "execution_count": 9,
      "outputs": [
        {
          "output_type": "stream",
          "text": [
            "\n",
            "\n",
            "-------------------------------------------------------------------\n",
            "------------------------- Iteration 1/25 -------------------------\n",
            "-------------------------------------------------------------------\n",
            "\n",
            "Train GP...\n"
          ],
          "name": "stdout"
        },
        {
          "output_type": "stream",
          "text": [
            "100%|██████████| 50/50 [00:01<00:00, 27.64it/s]\n",
            "  0%|          | 0/50 [00:00<?, ?it/s]"
          ],
          "name": "stderr"
        },
        {
          "output_type": "stream",
          "text": [
            "\n",
            "Compute next acquisition point...\n"
          ],
          "name": "stdout"
        },
        {
          "output_type": "stream",
          "text": [
            "100%|██████████| 50/50 [00:00<00:00, 51.16it/s]\n",
            "  0%|          | 0/50 [00:00<?, ?it/s]"
          ],
          "name": "stderr"
        },
        {
          "output_type": "stream",
          "text": [
            "\n",
            "Relative L2 error: 4.892676e-01\n",
            "\n",
            "\n",
            "\n",
            "-------------------------------------------------------------------\n",
            "------------------------- Iteration 2/25 -------------------------\n",
            "-------------------------------------------------------------------\n",
            "\n",
            "Train GP...\n"
          ],
          "name": "stdout"
        },
        {
          "output_type": "stream",
          "text": [
            "100%|██████████| 50/50 [00:01<00:00, 36.14it/s]\n",
            "  0%|          | 0/50 [00:00<?, ?it/s]"
          ],
          "name": "stderr"
        },
        {
          "output_type": "stream",
          "text": [
            "\n",
            "Compute next acquisition point...\n"
          ],
          "name": "stdout"
        },
        {
          "output_type": "stream",
          "text": [
            "100%|██████████| 50/50 [00:01<00:00, 49.62it/s]\n",
            "  0%|          | 0/50 [00:00<?, ?it/s]"
          ],
          "name": "stderr"
        },
        {
          "output_type": "stream",
          "text": [
            "\n",
            "Relative L2 error: 4.655148e-01\n",
            "\n",
            "\n",
            "\n",
            "-------------------------------------------------------------------\n",
            "------------------------- Iteration 3/25 -------------------------\n",
            "-------------------------------------------------------------------\n",
            "\n",
            "Train GP...\n"
          ],
          "name": "stdout"
        },
        {
          "output_type": "stream",
          "text": [
            "100%|██████████| 50/50 [00:01<00:00, 35.28it/s]\n",
            "  0%|          | 0/50 [00:00<?, ?it/s]"
          ],
          "name": "stderr"
        },
        {
          "output_type": "stream",
          "text": [
            "\n",
            "Compute next acquisition point...\n"
          ],
          "name": "stdout"
        },
        {
          "output_type": "stream",
          "text": [
            "100%|██████████| 50/50 [00:01<00:00, 48.53it/s]\n",
            "  0%|          | 0/50 [00:00<?, ?it/s]"
          ],
          "name": "stderr"
        },
        {
          "output_type": "stream",
          "text": [
            "\n",
            "Relative L2 error: 4.517609e-01\n",
            "\n",
            "\n",
            "\n",
            "-------------------------------------------------------------------\n",
            "------------------------- Iteration 4/25 -------------------------\n",
            "-------------------------------------------------------------------\n",
            "\n",
            "Train GP...\n"
          ],
          "name": "stdout"
        },
        {
          "output_type": "stream",
          "text": [
            "100%|██████████| 50/50 [00:01<00:00, 35.74it/s]\n",
            "  0%|          | 0/50 [00:00<?, ?it/s]"
          ],
          "name": "stderr"
        },
        {
          "output_type": "stream",
          "text": [
            "\n",
            "Compute next acquisition point...\n"
          ],
          "name": "stdout"
        },
        {
          "output_type": "stream",
          "text": [
            "100%|██████████| 50/50 [00:01<00:00, 48.25it/s]\n",
            "  0%|          | 0/50 [00:00<?, ?it/s]"
          ],
          "name": "stderr"
        },
        {
          "output_type": "stream",
          "text": [
            "\n",
            "Relative L2 error: 4.324884e-01\n",
            "\n",
            "\n",
            "\n",
            "-------------------------------------------------------------------\n",
            "------------------------- Iteration 5/25 -------------------------\n",
            "-------------------------------------------------------------------\n",
            "\n",
            "Train GP...\n"
          ],
          "name": "stdout"
        },
        {
          "output_type": "stream",
          "text": [
            "100%|██████████| 50/50 [00:01<00:00, 34.14it/s]\n",
            "  0%|          | 0/50 [00:00<?, ?it/s]"
          ],
          "name": "stderr"
        },
        {
          "output_type": "stream",
          "text": [
            "\n",
            "Compute next acquisition point...\n"
          ],
          "name": "stdout"
        },
        {
          "output_type": "stream",
          "text": [
            "100%|██████████| 50/50 [00:01<00:00, 47.73it/s]\n",
            "  0%|          | 0/50 [00:00<?, ?it/s]"
          ],
          "name": "stderr"
        },
        {
          "output_type": "stream",
          "text": [
            "\n",
            "Relative L2 error: 4.056302e-01\n",
            "\n",
            "\n",
            "\n",
            "-------------------------------------------------------------------\n",
            "------------------------- Iteration 6/25 -------------------------\n",
            "-------------------------------------------------------------------\n",
            "\n",
            "Train GP...\n"
          ],
          "name": "stdout"
        },
        {
          "output_type": "stream",
          "text": [
            "100%|██████████| 50/50 [00:01<00:00, 32.52it/s]\n",
            "  0%|          | 0/50 [00:00<?, ?it/s]"
          ],
          "name": "stderr"
        },
        {
          "output_type": "stream",
          "text": [
            "\n",
            "Compute next acquisition point...\n"
          ],
          "name": "stdout"
        },
        {
          "output_type": "stream",
          "text": [
            "100%|██████████| 50/50 [00:01<00:00, 45.55it/s]\n",
            "  0%|          | 0/50 [00:00<?, ?it/s]"
          ],
          "name": "stderr"
        },
        {
          "output_type": "stream",
          "text": [
            "\n",
            "Relative L2 error: 2.523598e-01\n",
            "\n",
            "\n",
            "\n",
            "-------------------------------------------------------------------\n",
            "------------------------- Iteration 7/25 -------------------------\n",
            "-------------------------------------------------------------------\n",
            "\n",
            "Train GP...\n"
          ],
          "name": "stdout"
        },
        {
          "output_type": "stream",
          "text": [
            "100%|██████████| 50/50 [00:01<00:00, 37.62it/s]\n",
            "  0%|          | 0/50 [00:00<?, ?it/s]"
          ],
          "name": "stderr"
        },
        {
          "output_type": "stream",
          "text": [
            "\n",
            "Compute next acquisition point...\n"
          ],
          "name": "stdout"
        },
        {
          "output_type": "stream",
          "text": [
            "100%|██████████| 50/50 [00:01<00:00, 45.12it/s]\n",
            "  0%|          | 0/50 [00:00<?, ?it/s]"
          ],
          "name": "stderr"
        },
        {
          "output_type": "stream",
          "text": [
            "\n",
            "Relative L2 error: 2.330674e-01\n",
            "\n",
            "\n",
            "\n",
            "-------------------------------------------------------------------\n",
            "------------------------- Iteration 8/25 -------------------------\n",
            "-------------------------------------------------------------------\n",
            "\n",
            "Train GP...\n"
          ],
          "name": "stdout"
        },
        {
          "output_type": "stream",
          "text": [
            "100%|██████████| 50/50 [00:01<00:00, 39.00it/s]\n",
            "  0%|          | 0/50 [00:00<?, ?it/s]"
          ],
          "name": "stderr"
        },
        {
          "output_type": "stream",
          "text": [
            "\n",
            "Compute next acquisition point...\n"
          ],
          "name": "stdout"
        },
        {
          "output_type": "stream",
          "text": [
            "100%|██████████| 50/50 [00:01<00:00, 43.71it/s]\n",
            "  0%|          | 0/50 [00:00<?, ?it/s]"
          ],
          "name": "stderr"
        },
        {
          "output_type": "stream",
          "text": [
            "\n",
            "Relative L2 error: 1.310621e-01\n",
            "\n",
            "\n",
            "\n",
            "-------------------------------------------------------------------\n",
            "------------------------- Iteration 9/25 -------------------------\n",
            "-------------------------------------------------------------------\n",
            "\n",
            "Train GP...\n"
          ],
          "name": "stdout"
        },
        {
          "output_type": "stream",
          "text": [
            "100%|██████████| 50/50 [00:01<00:00, 37.31it/s]\n",
            "  0%|          | 0/50 [00:00<?, ?it/s]"
          ],
          "name": "stderr"
        },
        {
          "output_type": "stream",
          "text": [
            "\n",
            "Compute next acquisition point...\n"
          ],
          "name": "stdout"
        },
        {
          "output_type": "stream",
          "text": [
            "100%|██████████| 50/50 [00:01<00:00, 44.71it/s]\n",
            "  0%|          | 0/50 [00:00<?, ?it/s]"
          ],
          "name": "stderr"
        },
        {
          "output_type": "stream",
          "text": [
            "\n",
            "Relative L2 error: 1.280656e-01\n",
            "\n",
            "\n",
            "\n",
            "-------------------------------------------------------------------\n",
            "------------------------- Iteration 10/25 -------------------------\n",
            "-------------------------------------------------------------------\n",
            "\n",
            "Train GP...\n"
          ],
          "name": "stdout"
        },
        {
          "output_type": "stream",
          "text": [
            "100%|██████████| 50/50 [00:01<00:00, 36.77it/s]\n",
            "  0%|          | 0/50 [00:00<?, ?it/s]"
          ],
          "name": "stderr"
        },
        {
          "output_type": "stream",
          "text": [
            "\n",
            "Compute next acquisition point...\n"
          ],
          "name": "stdout"
        },
        {
          "output_type": "stream",
          "text": [
            "100%|██████████| 50/50 [00:01<00:00, 42.10it/s]\n",
            "  0%|          | 0/50 [00:00<?, ?it/s]"
          ],
          "name": "stderr"
        },
        {
          "output_type": "stream",
          "text": [
            "\n",
            "Relative L2 error: 1.267082e-01\n",
            "\n",
            "\n",
            "\n",
            "-------------------------------------------------------------------\n",
            "------------------------- Iteration 11/25 -------------------------\n",
            "-------------------------------------------------------------------\n",
            "\n",
            "Train GP...\n"
          ],
          "name": "stdout"
        },
        {
          "output_type": "stream",
          "text": [
            "100%|██████████| 50/50 [00:01<00:00, 40.27it/s]\n",
            "  0%|          | 0/50 [00:00<?, ?it/s]"
          ],
          "name": "stderr"
        },
        {
          "output_type": "stream",
          "text": [
            "\n",
            "Compute next acquisition point...\n"
          ],
          "name": "stdout"
        },
        {
          "output_type": "stream",
          "text": [
            "100%|██████████| 50/50 [00:01<00:00, 37.87it/s]\n",
            "  0%|          | 0/50 [00:00<?, ?it/s]"
          ],
          "name": "stderr"
        },
        {
          "output_type": "stream",
          "text": [
            "\n",
            "Relative L2 error: 1.315728e-01\n",
            "\n",
            "\n",
            "\n",
            "-------------------------------------------------------------------\n",
            "------------------------- Iteration 12/25 -------------------------\n",
            "-------------------------------------------------------------------\n",
            "\n",
            "Train GP...\n"
          ],
          "name": "stdout"
        },
        {
          "output_type": "stream",
          "text": [
            "100%|██████████| 50/50 [00:01<00:00, 39.34it/s]\n",
            "  0%|          | 0/50 [00:00<?, ?it/s]"
          ],
          "name": "stderr"
        },
        {
          "output_type": "stream",
          "text": [
            "\n",
            "Compute next acquisition point...\n"
          ],
          "name": "stdout"
        },
        {
          "output_type": "stream",
          "text": [
            "100%|██████████| 50/50 [00:01<00:00, 40.15it/s]\n",
            "  0%|          | 0/50 [00:00<?, ?it/s]"
          ],
          "name": "stderr"
        },
        {
          "output_type": "stream",
          "text": [
            "\n",
            "Relative L2 error: 4.729512e-02\n",
            "\n",
            "\n",
            "\n",
            "-------------------------------------------------------------------\n",
            "------------------------- Iteration 13/25 -------------------------\n",
            "-------------------------------------------------------------------\n",
            "\n",
            "Train GP...\n"
          ],
          "name": "stdout"
        },
        {
          "output_type": "stream",
          "text": [
            "100%|██████████| 50/50 [00:01<00:00, 36.44it/s]\n",
            "  0%|          | 0/50 [00:00<?, ?it/s]"
          ],
          "name": "stderr"
        },
        {
          "output_type": "stream",
          "text": [
            "\n",
            "Compute next acquisition point...\n"
          ],
          "name": "stdout"
        },
        {
          "output_type": "stream",
          "text": [
            "100%|██████████| 50/50 [00:01<00:00, 39.42it/s]\n",
            "  0%|          | 0/50 [00:00<?, ?it/s]"
          ],
          "name": "stderr"
        },
        {
          "output_type": "stream",
          "text": [
            "\n",
            "Relative L2 error: 4.003714e-02\n",
            "\n",
            "\n",
            "\n",
            "-------------------------------------------------------------------\n",
            "------------------------- Iteration 14/25 -------------------------\n",
            "-------------------------------------------------------------------\n",
            "\n",
            "Train GP...\n"
          ],
          "name": "stdout"
        },
        {
          "output_type": "stream",
          "text": [
            "100%|██████████| 50/50 [00:01<00:00, 33.61it/s]\n",
            "  0%|          | 0/50 [00:00<?, ?it/s]"
          ],
          "name": "stderr"
        },
        {
          "output_type": "stream",
          "text": [
            "\n",
            "Compute next acquisition point...\n"
          ],
          "name": "stdout"
        },
        {
          "output_type": "stream",
          "text": [
            "100%|██████████| 50/50 [00:01<00:00, 40.83it/s]\n",
            "  0%|          | 0/50 [00:00<?, ?it/s]"
          ],
          "name": "stderr"
        },
        {
          "output_type": "stream",
          "text": [
            "\n",
            "Relative L2 error: 3.756560e-02\n",
            "\n",
            "\n",
            "\n",
            "-------------------------------------------------------------------\n",
            "------------------------- Iteration 15/25 -------------------------\n",
            "-------------------------------------------------------------------\n",
            "\n",
            "Train GP...\n"
          ],
          "name": "stdout"
        },
        {
          "output_type": "stream",
          "text": [
            "100%|██████████| 50/50 [00:01<00:00, 37.35it/s]\n",
            "  0%|          | 0/50 [00:00<?, ?it/s]"
          ],
          "name": "stderr"
        },
        {
          "output_type": "stream",
          "text": [
            "\n",
            "Compute next acquisition point...\n"
          ],
          "name": "stdout"
        },
        {
          "output_type": "stream",
          "text": [
            "100%|██████████| 50/50 [00:01<00:00, 35.73it/s]\n",
            "  0%|          | 0/50 [00:00<?, ?it/s]"
          ],
          "name": "stderr"
        },
        {
          "output_type": "stream",
          "text": [
            "\n",
            "Relative L2 error: 3.254708e-02\n",
            "\n",
            "\n",
            "\n",
            "-------------------------------------------------------------------\n",
            "------------------------- Iteration 16/25 -------------------------\n",
            "-------------------------------------------------------------------\n",
            "\n",
            "Train GP...\n"
          ],
          "name": "stdout"
        },
        {
          "output_type": "stream",
          "text": [
            "100%|██████████| 50/50 [00:01<00:00, 31.08it/s]\n",
            "  0%|          | 0/50 [00:00<?, ?it/s]"
          ],
          "name": "stderr"
        },
        {
          "output_type": "stream",
          "text": [
            "\n",
            "Compute next acquisition point...\n"
          ],
          "name": "stdout"
        },
        {
          "output_type": "stream",
          "text": [
            "100%|██████████| 50/50 [00:01<00:00, 39.95it/s]\n",
            "  0%|          | 0/50 [00:00<?, ?it/s]"
          ],
          "name": "stderr"
        },
        {
          "output_type": "stream",
          "text": [
            "\n",
            "Relative L2 error: 1.594347e-02\n",
            "\n",
            "\n",
            "\n",
            "-------------------------------------------------------------------\n",
            "------------------------- Iteration 17/25 -------------------------\n",
            "-------------------------------------------------------------------\n",
            "\n",
            "Train GP...\n"
          ],
          "name": "stdout"
        },
        {
          "output_type": "stream",
          "text": [
            "100%|██████████| 50/50 [00:01<00:00, 30.29it/s]\n",
            "  0%|          | 0/50 [00:00<?, ?it/s]"
          ],
          "name": "stderr"
        },
        {
          "output_type": "stream",
          "text": [
            "\n",
            "Compute next acquisition point...\n"
          ],
          "name": "stdout"
        },
        {
          "output_type": "stream",
          "text": [
            "100%|██████████| 50/50 [00:01<00:00, 32.41it/s]\n",
            "  0%|          | 0/50 [00:00<?, ?it/s]"
          ],
          "name": "stderr"
        },
        {
          "output_type": "stream",
          "text": [
            "\n",
            "Relative L2 error: 1.505315e-02\n",
            "\n",
            "\n",
            "\n",
            "-------------------------------------------------------------------\n",
            "------------------------- Iteration 18/25 -------------------------\n",
            "-------------------------------------------------------------------\n",
            "\n",
            "Train GP...\n"
          ],
          "name": "stdout"
        },
        {
          "output_type": "stream",
          "text": [
            "100%|██████████| 50/50 [00:02<00:00, 24.63it/s]\n",
            "  0%|          | 0/50 [00:00<?, ?it/s]"
          ],
          "name": "stderr"
        },
        {
          "output_type": "stream",
          "text": [
            "\n",
            "Compute next acquisition point...\n"
          ],
          "name": "stdout"
        },
        {
          "output_type": "stream",
          "text": [
            "100%|██████████| 50/50 [00:01<00:00, 34.79it/s]\n",
            "  0%|          | 0/50 [00:00<?, ?it/s]"
          ],
          "name": "stderr"
        },
        {
          "output_type": "stream",
          "text": [
            "\n",
            "Relative L2 error: 1.511438e-02\n",
            "\n",
            "\n",
            "\n",
            "-------------------------------------------------------------------\n",
            "------------------------- Iteration 19/25 -------------------------\n",
            "-------------------------------------------------------------------\n",
            "\n",
            "Train GP...\n"
          ],
          "name": "stdout"
        },
        {
          "output_type": "stream",
          "text": [
            "100%|██████████| 50/50 [00:01<00:00, 28.60it/s]\n",
            "  0%|          | 0/50 [00:00<?, ?it/s]"
          ],
          "name": "stderr"
        },
        {
          "output_type": "stream",
          "text": [
            "\n",
            "Compute next acquisition point...\n"
          ],
          "name": "stdout"
        },
        {
          "output_type": "stream",
          "text": [
            "100%|██████████| 50/50 [00:01<00:00, 36.85it/s]\n",
            "  0%|          | 0/50 [00:00<?, ?it/s]"
          ],
          "name": "stderr"
        },
        {
          "output_type": "stream",
          "text": [
            "\n",
            "Relative L2 error: 1.343412e-02\n",
            "\n",
            "\n",
            "\n",
            "-------------------------------------------------------------------\n",
            "------------------------- Iteration 20/25 -------------------------\n",
            "-------------------------------------------------------------------\n",
            "\n",
            "Train GP...\n"
          ],
          "name": "stdout"
        },
        {
          "output_type": "stream",
          "text": [
            "100%|██████████| 50/50 [00:01<00:00, 28.78it/s]\n",
            "  0%|          | 0/50 [00:00<?, ?it/s]"
          ],
          "name": "stderr"
        },
        {
          "output_type": "stream",
          "text": [
            "\n",
            "Compute next acquisition point...\n"
          ],
          "name": "stdout"
        },
        {
          "output_type": "stream",
          "text": [
            "100%|██████████| 50/50 [00:01<00:00, 37.28it/s]\n",
            "  0%|          | 0/50 [00:00<?, ?it/s]"
          ],
          "name": "stderr"
        },
        {
          "output_type": "stream",
          "text": [
            "\n",
            "Relative L2 error: 8.589939e-03\n",
            "\n",
            "\n",
            "\n",
            "-------------------------------------------------------------------\n",
            "------------------------- Iteration 21/25 -------------------------\n",
            "-------------------------------------------------------------------\n",
            "\n",
            "Train GP...\n"
          ],
          "name": "stdout"
        },
        {
          "output_type": "stream",
          "text": [
            "100%|██████████| 50/50 [00:01<00:00, 30.07it/s]\n",
            "  0%|          | 0/50 [00:00<?, ?it/s]"
          ],
          "name": "stderr"
        },
        {
          "output_type": "stream",
          "text": [
            "\n",
            "Compute next acquisition point...\n"
          ],
          "name": "stdout"
        },
        {
          "output_type": "stream",
          "text": [
            "100%|██████████| 50/50 [00:01<00:00, 36.48it/s]\n",
            "  0%|          | 0/50 [00:00<?, ?it/s]"
          ],
          "name": "stderr"
        },
        {
          "output_type": "stream",
          "text": [
            "\n",
            "Relative L2 error: 9.736381e-03\n",
            "\n",
            "\n",
            "\n",
            "-------------------------------------------------------------------\n",
            "------------------------- Iteration 22/25 -------------------------\n",
            "-------------------------------------------------------------------\n",
            "\n",
            "Train GP...\n"
          ],
          "name": "stdout"
        },
        {
          "output_type": "stream",
          "text": [
            "100%|██████████| 50/50 [00:01<00:00, 30.62it/s]\n",
            "  0%|          | 0/50 [00:00<?, ?it/s]"
          ],
          "name": "stderr"
        },
        {
          "output_type": "stream",
          "text": [
            "\n",
            "Compute next acquisition point...\n"
          ],
          "name": "stdout"
        },
        {
          "output_type": "stream",
          "text": [
            "100%|██████████| 50/50 [00:01<00:00, 30.45it/s]\n",
            "  0%|          | 0/50 [00:00<?, ?it/s]"
          ],
          "name": "stderr"
        },
        {
          "output_type": "stream",
          "text": [
            "\n",
            "Relative L2 error: 8.295374e-03\n",
            "\n",
            "\n",
            "\n",
            "-------------------------------------------------------------------\n",
            "------------------------- Iteration 23/25 -------------------------\n",
            "-------------------------------------------------------------------\n",
            "\n",
            "Train GP...\n"
          ],
          "name": "stdout"
        },
        {
          "output_type": "stream",
          "text": [
            "100%|██████████| 50/50 [00:01<00:00, 29.43it/s]\n",
            "  0%|          | 0/50 [00:00<?, ?it/s]"
          ],
          "name": "stderr"
        },
        {
          "output_type": "stream",
          "text": [
            "\n",
            "Compute next acquisition point...\n"
          ],
          "name": "stdout"
        },
        {
          "output_type": "stream",
          "text": [
            "100%|██████████| 50/50 [00:01<00:00, 31.80it/s]\n",
            "  0%|          | 0/50 [00:00<?, ?it/s]"
          ],
          "name": "stderr"
        },
        {
          "output_type": "stream",
          "text": [
            "\n",
            "Relative L2 error: 6.024432e-03\n",
            "\n",
            "\n",
            "\n",
            "-------------------------------------------------------------------\n",
            "------------------------- Iteration 24/25 -------------------------\n",
            "-------------------------------------------------------------------\n",
            "\n",
            "Train GP...\n"
          ],
          "name": "stdout"
        },
        {
          "output_type": "stream",
          "text": [
            "100%|██████████| 50/50 [00:02<00:00, 23.99it/s]\n",
            "  0%|          | 0/50 [00:00<?, ?it/s]"
          ],
          "name": "stderr"
        },
        {
          "output_type": "stream",
          "text": [
            "\n",
            "Compute next acquisition point...\n"
          ],
          "name": "stdout"
        },
        {
          "output_type": "stream",
          "text": [
            "100%|██████████| 50/50 [00:01<00:00, 27.17it/s]\n",
            "  0%|          | 0/50 [00:00<?, ?it/s]"
          ],
          "name": "stderr"
        },
        {
          "output_type": "stream",
          "text": [
            "\n",
            "Relative L2 error: 4.959614e-03\n",
            "\n",
            "\n",
            "\n",
            "-------------------------------------------------------------------\n",
            "------------------------- Iteration 25/25 -------------------------\n",
            "-------------------------------------------------------------------\n",
            "\n",
            "Train GP...\n"
          ],
          "name": "stdout"
        },
        {
          "output_type": "stream",
          "text": [
            "100%|██████████| 50/50 [00:02<00:00, 24.19it/s]\n",
            "  0%|          | 0/50 [00:00<?, ?it/s]"
          ],
          "name": "stderr"
        },
        {
          "output_type": "stream",
          "text": [
            "\n",
            "Compute next acquisition point...\n"
          ],
          "name": "stdout"
        },
        {
          "output_type": "stream",
          "text": [
            "100%|██████████| 50/50 [00:01<00:00, 27.64it/s]\n"
          ],
          "name": "stderr"
        },
        {
          "output_type": "stream",
          "text": [
            "\n",
            "Relative L2 error: 2.515317e-03\n",
            "\n"
          ],
          "name": "stdout"
        }
      ]
    },
    {
      "cell_type": "code",
      "metadata": {
        "colab": {
          "base_uri": "https://localhost:8080/",
          "height": 614
        },
        "id": "X1suRx1XUcJH",
        "outputId": "0f660ab2-797e-4704-83b1-41826b2733af"
      },
      "source": [
        "# Plot\n",
        "plt.rcParams.update({'font.size': 16})\n",
        "plt.rcParams['axes.linewidth']=3\n",
        "\n",
        "plt.figure(figsize = (20,5))\n",
        "plt.subplot(1,4,1)\n",
        "plt.pcolor(XX, YY, y_star.reshape(nn,nn))\n",
        "plt.colorbar()\n",
        "plt.plot(X[:,0], X[:,1], 'ro', ms=4)\n",
        "plt.xlabel('x')\n",
        "plt.ylabel('y')\n",
        "plt.title('Exact')\n",
        "plt.tight_layout()\n",
        "\n",
        "plt.subplot(1,4,2)\n",
        "plt.pcolor(XX, YY, mean.reshape(nn,nn))\n",
        "plt.colorbar()\n",
        "plt.xlabel('x')\n",
        "plt.ylabel('y')\n",
        "plt.title('Posterior mean')\n",
        "plt.tight_layout()\n",
        "\n",
        "plt.subplot(1,4,3)\n",
        "plt.pcolor(XX, YY, 2.0*std.reshape(nn,nn))\n",
        "plt.colorbar()\n",
        "plt.xlabel('x')\n",
        "plt.ylabel('y')\n",
        "plt.title('Posterior two std')\n",
        "plt.tight_layout()\n",
        "\n",
        "plt.subplot(1,4,4)\n",
        "plt.pcolor(XX, YY, np.abs(y_star-mean).reshape(nn,nn))\n",
        "plt.colorbar()\n",
        "plt.xlabel('x')\n",
        "plt.ylabel('y')\n",
        "plt.title('Absolute error')\n",
        "plt.tight_layout()\n",
        "\n",
        "plt.figure()\n",
        "plt.plot(error_log)\n",
        "plt.yscale('log')\n",
        "plt.xlabel('iteration')\n",
        "plt.ylabel('Relative L2 error')\n",
        "plt.tight_layout()"
      ],
      "execution_count": 10,
      "outputs": [
        {
          "output_type": "display_data",
          "data": {
            "image/png": "[encoded data removed]",
            "text/plain": [
              "<Figure size 1440x360 with 8 Axes>"
            ]
          },
          "metadata": {
            "tags": [],
            "needs_background": "light"
          }
        },
        {
          "output_type": "display_data",
          "data": {
            "image/png": "[encoded data removed]",
            "text/plain": [
              "<Figure size 432x288 with 1 Axes>"
            ]
          },
          "metadata": {
            "tags": [],
            "needs_background": "light"
          }
        }
      ]
    }
  ]
}