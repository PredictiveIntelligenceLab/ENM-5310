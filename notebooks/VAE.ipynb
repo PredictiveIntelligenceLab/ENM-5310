{
  "nbformat": 4,
  "nbformat_minor": 0,
  "metadata": {
    "colab": {
      "name": "VAE.ipynb",
      "provenance": [],
      "collapsed_sections": []
    },
    "kernelspec": {
      "name": "python3",
      "display_name": "Python 3"
    },
    "language_info": {
      "name": "python"
    },
    "accelerator": "GPU"
  },
  "cells": [
    {
      "cell_type": "code",
      "metadata": {
        "id": "wdre0c-k6Cxs"
      },
      "source": [
        "import jax.numpy as np\n",
        "from jax import random, vmap, grad, jit\n",
        "from jax.experimental import optimizers\n",
        "\n",
        "import itertools\n",
        "from functools import partial\n",
        "from tqdm import trange\n",
        "import numpy.random as npr\n",
        "import matplotlib.pyplot as plt\n",
        "import sklearn.datasets\n",
        "\n",
        "%matplotlib inline"
      ],
      "execution_count": 1,
      "outputs": []
    },
    {
      "cell_type": "code",
      "metadata": {
        "id": "oGmNhKY06I3g"
      },
      "source": [
        "def MLP(layers):\n",
        "    def init(rng_key):\n",
        "        def init_layer(key, d_in, d_out):\n",
        "            k1, k2 = random.split(key)\n",
        "            glorot_stddev = 1. / np.sqrt((d_in + d_out) / 2.)\n",
        "            W = glorot_stddev*random.normal(k1, (d_in, d_out))\n",
        "            b = np.zeros(d_out)\n",
        "            return W, b\n",
        "        key, *keys = random.split(rng_key, len(layers))\n",
        "        params = list(map(init_layer, keys, layers[:-2], layers[1:-1]))\n",
        "        # Last layer\n",
        "        k1, k2 = random.split(key)\n",
        "        params.append(init_layer(k1, layers[-2], layers[-1]))\n",
        "        params.append(init_layer(k2, layers[-2], layers[-1]))\n",
        "        return params\n",
        "    def apply(params, inputs):\n",
        "        for W, b in params[:-2]:\n",
        "            outputs = np.dot(inputs, W) + b\n",
        "            inputs = np.tanh(outputs)\n",
        "        W, b = params[-1]\n",
        "        mu = np.dot(inputs, W) + b\n",
        "        W, b = params[-2]\n",
        "        Sigma = np.dot(inputs, W) + b\n",
        "        return mu, Sigma\n",
        "    return init, apply"
      ],
      "execution_count": 2,
      "outputs": []
    },
    {
      "cell_type": "code",
      "metadata": {
        "id": "BMtghCNe6K0x"
      },
      "source": [
        "class VAE():\n",
        "    def __init__(self, X, layers_Q, layers_P, rng_key = random.PRNGKey(0), beta = 1.0, ):\n",
        "        # Normalize data\n",
        "        self.Xmean, self.Xstd = X.mean(0), X.std(0)\n",
        "        X = (X - self.Xmean)/self.Xstd\n",
        "\n",
        "        # Store the normalized trainind data\n",
        "        self.X = X\n",
        "\n",
        "        # Latent dimenions\n",
        "        self.Z_dim = layers_Q[-1]\n",
        "\n",
        "        # Regularization parameter beta\n",
        "        self.beta = beta\n",
        "\n",
        "        # Initialization and evaluation functions\n",
        "        self.net_Q_init, self.net_Q_apply = MLP(layers_Q)\n",
        "        self.net_P_init, self.net_P_apply = MLP(layers_P)\n",
        "        \n",
        "        # Initialize parameters, not committing to a batch shape\n",
        "        key_Q, key_P = random.split(rng_key, 2)\n",
        "        net_Q_params = self.net_Q_init(key_Q)\n",
        "        net_P_params = self.net_P_init(key_P)\n",
        "        params = (net_Q_params, net_P_params)\n",
        "                    \n",
        "        # Use optimizers to set optimizer initialization and update functions\n",
        "        self.opt_init, \\\n",
        "        self.opt_update, \\\n",
        "        self.get_params = optimizers.adam(optimizers.exponential_decay(1e-3, \n",
        "                                                                      decay_steps=2000, \n",
        "                                                                      decay_rate=0.9))\n",
        "        self.opt_state = self.opt_init(params)\n",
        "\n",
        "        # Logger to monitor the loss functions\n",
        "        self.KL_loss_log = []\n",
        "        self.recon_loss_log = []\n",
        "        self.itercount = itertools.count()\n",
        "\n",
        "\n",
        "    def per_example_ELBO(self, params, batch):\n",
        "        net_Q_params, net_P_params = params\n",
        "        X, eps = batch\n",
        "        # Encoder: q(z|x)\n",
        "        Z_mu, Z_logsigma = self.net_Q_apply(net_Q_params, X)\n",
        "        # Re-parametrization trick\n",
        "        Z = Z_mu + eps*np.sqrt(np.exp(Z_logsigma))\n",
        "        # Decoder: p(x|z)\n",
        "        X_mu, X_Sigma = self.net_P_apply(net_P_params, Z)\n",
        "        # KL[q(z|x)||p(z)]        \n",
        "        KL_loss = 0.5*np.sum(np.exp(Z_logsigma) + Z_mu**2 - 1.0 - Z_logsigma)\n",
        "        # -log p(x|z): Gaussian likelihood\n",
        "        recon_loss = 0.5*np.sum((X-X_mu)**2/np.exp(X_Sigma) + X_Sigma + np.log(2.0*np.pi))\n",
        "        return recon_loss, KL_loss\n",
        "\n",
        "    def loss(self, params, batch):\n",
        "        pe_loss = lambda x: self.per_example_ELBO(params, x)\n",
        "        recon_loss, KL_loss = vmap(pe_loss)(batch)\n",
        "        loss = self.beta*KL_loss + recon_loss\n",
        "        return np.mean(loss)\n",
        "\n",
        "    # Define a compiled update step\n",
        "    @partial(jit, static_argnums=(0,))\n",
        "    def step(self, i, opt_state, batch):\n",
        "        params = self.get_params(opt_state)\n",
        "        g = grad(self.loss)(params, batch)\n",
        "        return self.opt_update(i, g, opt_state)\n",
        "\n",
        "    def data_stream(self, n, num_batches, batch_size):\n",
        "        rng = npr.RandomState(0)\n",
        "        while True:\n",
        "            perm = rng.permutation(n)\n",
        "            for i in range(num_batches):\n",
        "                batch_idx = perm[i*batch_size:(i+1)*batch_size]\n",
        "                eps = random.normal(random.PRNGKey(i), (batch_idx.shape[0], self.Z_dim))\n",
        "                yield self.X[batch_idx, :], eps\n",
        "\n",
        "    def train(self, num_epochs = 100, batch_size = 64):   \n",
        "        # Build a data iterator\n",
        "        n = self.X.shape[0]\n",
        "        num_complete_batches, leftover = divmod(n, batch_size)\n",
        "        num_batches = num_complete_batches + bool(leftover) \n",
        "        batch = iter(self.data_stream(n, num_batches, batch_size))\n",
        "        # Run training loop\n",
        "        pbar = trange(num_epochs)\n",
        "        for epoch in pbar:\n",
        "            for i in range(num_batches):\n",
        "                self.opt_state = self.step(next(self.itercount), self.opt_state, next(batch))\n",
        "            params = self.get_params(self.opt_state)\n",
        "            pe_loss = lambda x: self.per_example_ELBO(params, x)\n",
        "            recon_loss, KL_loss = vmap(pe_loss)(next(batch))\n",
        "            recon_loss = np.mean(recon_loss) \n",
        "            KL_loss = np.mean(KL_loss) \n",
        "            self.KL_loss_log.append(KL_loss)\n",
        "            self.recon_loss_log.append(recon_loss)\n",
        "            pbar.set_postfix({'Reconstruction loss': recon_loss, 'KL loss': KL_loss})\n",
        "\n",
        "    # Encode a single input point\n",
        "    @partial(jit, static_argnums=(0,))\n",
        "    def encode(self, params, X):\n",
        "        net_Q_params, _ = params\n",
        "        # Encoder: q(z|x)\n",
        "        X = (X - self.Xmean)/self.Xstd\n",
        "        Z_mu, Z_logsigma = self.net_Q_apply(net_Q_params, X)\n",
        "        return Z_mu, np.exp(Z_logsigma)\n",
        "\n",
        "    # Decode a single latent point\n",
        "    @partial(jit, static_argnums=(0,))\n",
        "    def decode(self, params, Z):\n",
        "        _, net_P_params = params\n",
        "        # Decoder: p(x|z)\n",
        "        X_mu, _ = self.net_P_apply(net_P_params, Z)\n",
        "        # De-normalize\n",
        "        X_mu = X_mu * self.Xstd + self.Xmean\n",
        "        return X_mu\n",
        "\n",
        "    # Reconstruct a single input point\n",
        "    @partial(jit, static_argnums=(0,))\n",
        "    def reconstruct(self, rng_key, params, X): \n",
        "        net_Q_params, net_P_params = params\n",
        "        # Encoder: q(z|x)\n",
        "        X = (X - self.Xmean)/self.Xstd\n",
        "        Z_mu, Z_logsigma = self.net_Q_apply(net_Q_params, X)    \n",
        "        # Re-parametrization trick\n",
        "        eps = random.normal(rng_key, (self.Z_dim,))\n",
        "        Z = Z_mu + eps*np.sqrt(np.exp(Z_logsigma))\n",
        "        # Decoder: p(x|z)\n",
        "        X_mu, _ = self.net_P_apply(net_P_params, Z)\n",
        "        # De-normalize\n",
        "        X_mu = X_mu * self.Xstd + self.Xmean\n",
        "        return X_mu\n",
        "\n",
        "    # Generate a single sample\n",
        "    @partial(jit, static_argnums=(0,))\n",
        "    def generate(self, rng_key, params):\n",
        "        _, net_P_params = params\n",
        "        eps = random.normal(rng_key, (self.Z_dim,))\n",
        "        X_mu, X_Sigma = self.net_P_apply(net_P_params, eps)\n",
        "        X = random.multivariate_normal(rng_key, X_mu, np.diag(np.exp(X_Sigma)))\n",
        "        X = X * self.Xstd + self.Xmean\n",
        "        return X"
      ],
      "execution_count": 3,
      "outputs": []
    },
    {
      "cell_type": "code",
      "metadata": {
        "id": "DNU2OhtCFdik"
      },
      "source": [
        "# Load Iris data-set\n",
        "X = sklearn.datasets.load_iris().data\n",
        "y = sklearn.datasets.load_iris().target"
      ],
      "execution_count": 4,
      "outputs": []
    },
    {
      "cell_type": "code",
      "metadata": {
        "id": "EOid5lqTFicb"
      },
      "source": [
        "# Model creation\n",
        "Z_dim = 2\n",
        "X_dim = X.shape[1]\n",
        "init_key = random.PRNGKey(0)\n",
        "layers_P = np.array([Z_dim,50,50,X_dim])\n",
        "layers_Q = np.array([X_dim,50,50,Z_dim])  \n",
        "model = VAE(X, layers_Q, layers_P, init_key)"
      ],
      "execution_count": 5,
      "outputs": []
    },
    {
      "cell_type": "code",
      "metadata": {
        "colab": {
          "base_uri": "https://localhost:8080/"
        },
        "id": "z0C6gshYFxon",
        "outputId": "3e0a188d-8f0b-49c4-afc2-f1aa88a43ae5"
      },
      "source": [
        "model.train(num_epochs = 2000, batch_size = 256)"
      ],
      "execution_count": 6,
      "outputs": [
        {
          "output_type": "stream",
          "text": [
            "100%|██████████| 2000/2000 [01:17<00:00, 25.74it/s, Reconstruction loss=-0.5867232, KL loss=2.811238]\n"
          ],
          "name": "stderr"
        }
      ]
    },
    {
      "cell_type": "code",
      "metadata": {
        "colab": {
          "base_uri": "https://localhost:8080/",
          "height": 296
        },
        "id": "kD6AxtKs2iZD",
        "outputId": "8440e298-1602-46fd-ff41-e6212dc8d24c"
      },
      "source": [
        "# Encode data and visualize the latent space\n",
        "opt_params = model.get_params(model.opt_state)\n",
        "enc_fn = lambda x: model.encode(opt_params, x)\n",
        "z_mu, z_std = vmap(enc_fn)(X)\n",
        "\n",
        "plt.figure(1)\n",
        "plt.scatter(z_mu[:,0],z_mu[:,1], c = y)\n",
        "plt.xlabel('$z_1$')\n",
        "plt.ylabel('$z_2$')\n",
        "plt.tight_layout()"
      ],
      "execution_count": 11,
      "outputs": [
        {
          "output_type": "display_data",
          "data": {
            "image/png": "[encoded data removed]",
            "text/plain": [
              "<Figure size 432x288 with 1 Axes>"
            ]
          },
          "metadata": {
            "tags": [],
            "needs_background": "light"
          }
        }
      ]
    },
    {
      "cell_type": "code",
      "metadata": {
        "colab": {
          "base_uri": "https://localhost:8080/"
        },
        "id": "eVqHQw87ujkZ",
        "outputId": "cc09a789-5d58-412b-aabd-f2e326db607a"
      },
      "source": [
        "# Generate new samples\n",
        "num_samples = 2000\n",
        "keys = random.split(random.PRNGKey(0), num_samples)\n",
        "gen_fn = lambda key: model.generate(key, opt_params)\n",
        "x_star = vmap(gen_fn)(keys)"
      ],
      "execution_count": 13,
      "outputs": [
        {
          "output_type": "stream",
          "text": [
            "(2000, 4)\n"
          ],
          "name": "stdout"
        }
      ]
    },
    {
      "cell_type": "code",
      "metadata": {
        "colab": {
          "base_uri": "https://localhost:8080/",
          "height": 296
        },
        "id": "1HkVmufU3hW6",
        "outputId": "4bcd3549-4c34-4559-fb60-2f9a859d27fc"
      },
      "source": [
        "# Plot convergence\n",
        "plt.figure()\n",
        "plt.plot(model.recon_loss_log, label = 'Reconstruction loss')\n",
        "plt.plot(model.KL_loss_log, label = 'KL loss')\n",
        "plt.legend()\n",
        "plt.xlabel('epoch')\n",
        "plt.ylabel('loss')\n",
        "plt.tight_layout()"
      ],
      "execution_count": 16,
      "outputs": [
        {
          "output_type": "display_data",
          "data": {
            "image/png": "[encoded data removed]",
            "text/plain": [
              "<Figure size 432x288 with 1 Axes>"
            ]
          },
          "metadata": {
            "tags": [],
            "needs_background": "light"
          }
        }
      ]
    }
  ]
}