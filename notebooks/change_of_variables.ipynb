{
  "cells": [
    {
      "cell_type": "code",
      "execution_count": null,
      "metadata": {
        "id": "J17vtBJli26T"
      },
      "outputs": [],
      "source": [
        "import jax.numpy as np   \n",
        "from jax import grad, jacfwd, jit, random, vmap\n",
        "from jax.scipy.stats import multivariate_normal\n",
        "from jax.tree_util import tree_map\n",
        "\n",
        "from IPython.display import clear_output\n",
        "import matplotlib.pyplot as plt\n",
        "# from matplotlib import style\n",
        "# style.use('dark_background')"
      ]
    },
    {
      "cell_type": "markdown",
      "metadata": {
        "id": "Yq2EQIPSi9W6"
      },
      "source": [
        "# Affine transformation\n",
        "\n",
        "Let us start with a good old Normal variable $\\mathbf{z} \\sim \\mathcal{N}(\\mathbf{0}, \\mathbf{I})$."
      ]
    },
    {
      "cell_type": "code",
      "execution_count": null,
      "metadata": {
        "colab": {
          "base_uri": "https://localhost:8080/"
        },
        "id": "3LQHmV34jAFU",
        "outputId": "9743524e-42c3-4200-d2bd-486e2899045a"
      },
      "outputs": [
        {
          "output_type": "stream",
          "name": "stderr",
          "text": [
            "WARNING:jax._src.lib.xla_bridge:No GPU/TPU found, falling back to CPU. (Set TF_CPP_MIN_LOG_LEVEL=0 and rerun for more info.)\n"
          ]
        },
        {
          "output_type": "stream",
          "name": "stdout",
          "text": [
            "[-0.78476596  0.85644484]\n"
          ]
        }
      ],
      "source": [
        "rng_key = random.PRNGKey(0)\n",
        "z = random.normal(rng_key, (2,))\n",
        "print(z)"
      ]
    },
    {
      "cell_type": "markdown",
      "metadata": {
        "id": "lR5q-gZ0jHpr"
      },
      "source": [
        "We define $\\mathbf{x}$ as the affine transformation $\\mathbf{x} = g^{-1}(\\mathbf{z}) = A \\mathbf{z} + \\mathbf{b}$. The transformation is invertible and we have $\\mathbf{z} = g(\\mathbf{x}) = A^{-1} (\\mathbf{x} - \\mathbf{b})$."
      ]
    },
    {
      "cell_type": "code",
      "execution_count": null,
      "metadata": {
        "id": "Mxr7bID-jB3q"
      },
      "outputs": [],
      "source": [
        "A = np.array([[0.75, -0.3],  \n",
        "              [-0.7, 1.25]])\n",
        "b = np.array([1.0, 0.5])\n",
        "\n",
        "A_inv = np.linalg.inv(A)\n",
        "\n",
        "def g_inv(z, A, b):\n",
        "    return np.dot(A, z) + b\n",
        "\n",
        "def g_fwd(x, A_inv, b):\n",
        "    return np.dot(A_inv, x-b)"
      ]
    },
    {
      "cell_type": "code",
      "execution_count": null,
      "metadata": {
        "colab": {
          "base_uri": "https://localhost:8080/"
        },
        "id": "9axMyvYfjO-M",
        "outputId": "af4a6b1a-248b-46ec-8050-0b351a77d596"
      },
      "outputs": [
        {
          "output_type": "stream",
          "name": "stdout",
          "text": [
            "z = [-0.78476596  0.85644484]\n",
            "x = g_inv(z) = [0.15449208 2.1198921 ]\n",
            "z = g_fwd(x) = [-0.78476596  0.8564447 ]\n"
          ]
        }
      ],
      "source": [
        "# A simple sanity check\n",
        "print(\"z =\", z)\n",
        "x = g_inv(z, A, b)\n",
        "print(\"x = g_inv(z) =\", x)\n",
        "z = g_fwd(x, A_inv, b)\n",
        "print(\"z = g_fwd(x) =\", z)"
      ]
    },
    {
      "cell_type": "markdown",
      "metadata": {
        "id": "0hjPPJ8Jjl_Z"
      },
      "source": [
        "The transformation and its inverse are defined on a per-sample level, but can be easily vectorized using JAX's `vmap`:"
      ]
    },
    {
      "cell_type": "code",
      "execution_count": null,
      "metadata": {
        "id": "bee4VpEBjVJD"
      },
      "outputs": [],
      "source": [
        "g_inv_vec = vmap(g_inv, in_axes=(0,None,None))\n",
        "g_fwd_vec = vmap(g_fwd, in_axes=(0,None,None))"
      ]
    },
    {
      "cell_type": "code",
      "execution_count": null,
      "metadata": {
        "colab": {
          "base_uri": "https://localhost:8080/",
          "height": 281
        },
        "id": "bLgpAPGej4he",
        "outputId": "a450e243-63f9-4c52-eb90-ab773ae3dc2d"
      },
      "outputs": [
        {
          "output_type": "display_data",
          "data": {
            "text/plain": [
              "<Figure size 864x288 with 3 Axes>"
            ],
            "image/png": "[encoded data removed]"
          },
          "metadata": {
            "needs_background": "light"
          }
        }
      ],
      "source": [
        "# One more sanity check\n",
        "rng_key = random.PRNGKey(1)\n",
        "z = random.normal(rng_key, (10000, 2))\n",
        "\n",
        "x     = g_inv_vec(z, A, b)\n",
        "z_rec = g_fwd_vec(x, A_inv, b)\n",
        "\n",
        "fig, (ax1, ax2, ax3) = plt.subplots(1, 3, figsize=(12, 4))\n",
        "ax1.hist2d(z[:, 0], z[:, 1], bins=50, range=[(-5,5), (-5,5)], density=True)\n",
        "ax1.set_xlim(-5, 5)\n",
        "ax1.set_ylim(-5, 5)\n",
        "ax1.set_title('z ~ p(z)')\n",
        "\n",
        "ax2.hist2d(x[:, 0], x[:, 1], bins=50, range=[(-5,5), (-5,5)], density=True)\n",
        "ax2.set_xlim(-5, 5)\n",
        "ax2.set_ylim(-5, 5)\n",
        "ax2.set_title('x = g^{-1}(z)')\n",
        "\n",
        "ax3.hist2d(z_rec[:, 0], z_rec[:, 1], bins=50, range=[(-5,5), (-5,5)], density=True)\n",
        "ax3.set_xlim(-5, 5)\n",
        "ax3.set_ylim(-5, 5)\n",
        "ax3.set_title('z = g(x) [reconstructed]')\n",
        "\n",
        "plt.show()"
      ]
    },
    {
      "cell_type": "markdown",
      "metadata": {
        "id": "JhjaG-WEkRlm"
      },
      "source": [
        "The original $\\mathbf{z}$ values are properly reconstructed from $\\mathbf{x}$. So far so good!"
      ]
    },
    {
      "cell_type": "markdown",
      "metadata": {
        "id": "1O2F1vRikWPG"
      },
      "source": [
        "For $\\mathbf{x} = g^{-1}(\\mathbf{z})$ with $\\mathbf{z} \\sim p(\\mathbf{z})$, we have\n",
        "$$p(\\mathbf{x}) = p(g(\\mathbf{x})) \\left| \\text{det} J_{g(\\mathbf{x})} \\right|,$$\n",
        "where the Jacobian $J_{g(\\mathbf{x})} = \\frac{\\partial g(\\mathbf{x})}{\\partial \\mathbf{x}}$.\n",
        "\n",
        "Taking the logarithm of both sides we then get\n",
        "$$\\log p(\\mathbf{x}) = \\log p(g(\\mathbf{x})) + \\log\\left| \\text{det} J_{g(\\mathbf{x})} \\right|$$"
      ]
    },
    {
      "cell_type": "code",
      "execution_count": null,
      "metadata": {
        "colab": {
          "base_uri": "https://localhost:8080/"
        },
        "id": "0Rqj0MIukJcq",
        "outputId": "8d8a27a5-c04a-47e7-dc10-3cdbef07103d"
      },
      "outputs": [
        {
          "output_type": "stream",
          "name": "stdout",
          "text": [
            "log p(z) = -4.292217\n",
            "log p(x) = -3.9740756\n"
          ]
        }
      ],
      "source": [
        "# Let's evaluate log p(x) using the change of variables formula\n",
        "z = random.normal(rng_key, (2,))\n",
        "x = g_inv(z, A, b)\n",
        "\n",
        "mu_z = np.zeros(2)\n",
        "cov_z = np.eye(2)\n",
        "\n",
        "logp_z = multivariate_normal.logpdf(z, mean=mu_z, cov=cov_z)\n",
        "\n",
        "# Compute the Jacobian of g using automatic differentiation\n",
        "J = jacfwd(g_fwd) # this return a callable function!\n",
        "\n",
        "# Compute the log-likelihood of x using the change of variables formula\n",
        "logp_x = multivariate_normal.logpdf(g_fwd(x, A_inv, b), mean=mu_z, cov=cov_z) + \\\n",
        "         np.log(np.abs(np.linalg.det(J(x, A_inv, b))))\n",
        "\n",
        "print(\"log p(z) =\", logp_z)\n",
        "print(\"log p(x) =\", logp_x)"
      ]
    },
    {
      "cell_type": "markdown",
      "metadata": {
        "id": "mm-SMpNplTG6"
      },
      "source": [
        "Since we consider an affine transformation of the normal $\\mathbf{z} \\sim \\mathcal{N}(\\mathbf{0}, \\mathbf{I})$, we also know that \n",
        "$$p(\\mathbf{x}) = \\mathcal{N}(g^{-1}(\\mu), A \\Sigma A^T)).$$"
      ]
    },
    {
      "cell_type": "code",
      "execution_count": null,
      "metadata": {
        "colab": {
          "base_uri": "https://localhost:8080/"
        },
        "id": "iRaXEgwclOAP",
        "outputId": "875112a9-ac2a-4f6d-8106-a2e9ff4291e2"
      },
      "outputs": [
        {
          "output_type": "stream",
          "name": "stdout",
          "text": [
            "log p(x) = -3.974076\n"
          ]
        }
      ],
      "source": [
        "# Yet another sanity check\n",
        "# Confirm that the \\log p(x) we compute above agrees with what we expect\n",
        "print(\"log p(x) =\", multivariate_normal.logpdf(x, \n",
        "                                               mean=g_inv(mu_z, A, b), \n",
        "                                               cov=A @ cov_z @ A.T))"
      ]
    },
    {
      "cell_type": "markdown",
      "metadata": {
        "id": "tNQwCwtkmCuM"
      },
      "source": [
        "Hence, our expression for the density based on the change of variables theorem seems to hold!"
      ]
    },
    {
      "cell_type": "markdown",
      "metadata": {
        "id": "xs5b4tK3mIyz"
      },
      "source": [
        "Again, we can use `vmap` to vectorize the evaluation of the density over an entire batch of samples:"
      ]
    },
    {
      "cell_type": "code",
      "execution_count": null,
      "metadata": {
        "colab": {
          "base_uri": "https://localhost:8080/"
        },
        "id": "8W7_u92xl-K4",
        "outputId": "13e28b9c-6acf-49be-e7d2-11424b4eb536"
      },
      "outputs": [
        {
          "output_type": "stream",
          "name": "stdout",
          "text": [
            "log p(x) = [-1.877141  -2.1949906 -1.66791   -3.400479  -1.5975088]\n",
            "log p(x) = [-1.877141  -2.1949906 -1.66791   -3.4004796 -1.5975088]\n"
          ]
        }
      ],
      "source": [
        "J_vec = vmap(J, in_axes=(0,None,None)) # returns a callable function!\n",
        "det_vec = vmap(np.linalg.det) # returns a callable function!\n",
        "\n",
        "# Generate a batch of samples\n",
        "z = random.normal(rng_key, (5, 2))\n",
        "x = g_inv_vec(z, A, b)\n",
        "\n",
        "# One more sanity check..\n",
        "\n",
        "# \\log p(x) from the change of variabled formula\n",
        "print(\"log p(x) =\", multivariate_normal.logpdf(g_fwd_vec(x, A_inv, b), \n",
        "                                               mean=np.zeros(2), \n",
        "                                               cov=np.eye(2)) + \n",
        "                    np.log(np.abs(det_vec(J_vec(x, A_inv, b)))))\n",
        "# \\log p(x) from our analytical calculation\n",
        "print(\"log p(x) =\", multivariate_normal.logpdf(x, \n",
        "                                               mean=g_inv(mu_z, A, b), \n",
        "                                               cov= np.dot(A, np.dot(cov_z,A.T))))"
      ]
    },
    {
      "cell_type": "markdown",
      "metadata": {
        "id": "00TVIljjnE4e"
      },
      "source": [
        "The results agree as expected!\n",
        "\n",
        "Ok, seems like we're ready to play around training a normalizing flow :)"
      ]
    },
    {
      "cell_type": "markdown",
      "metadata": {
        "id": "Zy2oYxrpnBuk"
      },
      "source": [
        "# Parameter estimation via Maximum Likelihood Estimation (MLE)\n",
        "\n",
        "Given observations $\\mathbf{x}$ and assuming the affine transformation $\\mathbf{z} = g(\\mathbf{x}) = A^{-1} (\\mathbf{x} - \\mathbf{b})$, the parameters $A^{-1}$ and $\\mathbf{b}$ can be estimated by maximizing the likelihood $p(\\mathbf{x} | A^{-1}, \\mathbf{b})$.\n",
        "\n",
        "Let us start with some training data $\\mathbf{x} \\sim p(\\mathbf{x})$."
      ]
    },
    {
      "cell_type": "code",
      "execution_count": null,
      "metadata": {
        "id": "dVNSAVL8nAeb"
      },
      "outputs": [],
      "source": [
        "# Generate some reference observations for x\n",
        "z_train = random.normal(rng_key, (10000, 2))\n",
        "x_train = g_inv_vec(z_train, A, b)"
      ]
    },
    {
      "cell_type": "markdown",
      "metadata": {
        "id": "AZ7TekeEnw7e"
      },
      "source": [
        "Given these observations we ask the question: can we identify the parameters $A^{-1}$ and $\\mathbf{b}$ that generate the observed data?\n",
        "\n",
        "Let's try to estimate them via MLE.\n",
        "\n",
        "To this end, we need to find $A^{-1}$ and $\\mathbf{b}$ that maximize the likelihood of our observations, $p(x|A^{-1}, \\mathbf{b})$. Or, alternatively, minimize the negative log-likelihood  $-\\log p(\\mathbf{x} | A^{-1}, \\mathbf{b})$.\n",
        "\n",
        "In general, $\\log p(\\mathbf{x} | A^{-1}, \\mathbf{b})$ will be intractable to compute directly, but we can use the change of variables formula to evaluate it in terms of $\\log p(\\mathbf{z})$ and the log-determinant of the Jacobian of $g(\\mathbf{x})$.\n",
        "\n",
        "This is how we will construct our loss function, which will allow us to determine the optimal $A^{-1}$ and $\\mathbf{b}$. \n",
        "\n",
        "The `jit` directive is used for just-in-time compilation with XLA. This can optimize the function call and can oftentimes yield >10x speed-ups in compute time! "
      ]
    },
    {
      "cell_type": "code",
      "execution_count": null,
      "metadata": {
        "id": "XbST_YmYnvzO"
      },
      "outputs": [],
      "source": [
        "@jit\n",
        "def loss(params, batch):\n",
        "    A_inv, b = params\n",
        "    return -np.mean(multivariate_normal.logpdf(g_fwd_vec(batch, A_inv, b), \n",
        "                                               mean=np.zeros(2), \n",
        "                                               cov=np.eye(2)) + \n",
        "                    np.log(np.abs(det_vec(J_vec(batch, A_inv, b)))))"
      ]
    },
    {
      "cell_type": "markdown",
      "metadata": {
        "id": "B46Cq2vMpdJx"
      },
      "source": [
        "Since JAX supports automatic differentiation, we can readily obtain its gradient with respect to its 1st ($A^{-1}$) and 2nd ($\\mathbf{b}$) argument using `grad`:"
      ]
    },
    {
      "cell_type": "code",
      "execution_count": null,
      "metadata": {
        "id": "k2CKe1ZFm2h0"
      },
      "outputs": [],
      "source": [
        "grad_loss = grad(loss)"
      ]
    },
    {
      "cell_type": "markdown",
      "metadata": {
        "id": "mUNOnJmDplAv"
      },
      "source": [
        "Hence making it immediate to estimate $A^{-1}$ and $\\mathbf{b}$ using gradient descent."
      ]
    },
    {
      "cell_type": "code",
      "execution_count": null,
      "metadata": {
        "colab": {
          "base_uri": "https://localhost:8080/",
          "height": 281
        },
        "id": "lFL3VsSTphi6",
        "outputId": "c24326e2-c20d-4932-9f45-bcb4ed5b6192"
      },
      "outputs": [
        {
          "output_type": "display_data",
          "data": {
            "text/plain": [
              "<Figure size 288x288 with 1 Axes>"
            ],
            "image/png": "[encoded data removed]"
          },
          "metadata": {
            "needs_background": "light"
          }
        }
      ],
      "source": [
        "# Initial guess for the unkown parameters\n",
        "A_inv_est = np.eye(2) + random.normal(rng_key, (2, 2)) * 0.01\n",
        "b_est = random.normal(rng_key, (2,)) * 0.01\n",
        "\n",
        "# Define a learning rate parameter\n",
        "lr = 0.01\n",
        "\n",
        "# Define the gradient descent step\n",
        "def step(params, batch):\n",
        "    grads = grad_loss(params, batch)\n",
        "    params = tree_map(lambda x, g: x - lr*g, params, grads)\n",
        "    return params\n",
        "\n",
        "# Initial parameters and training data batch\n",
        "params = A_inv_est, b_est\n",
        "batch = x_train\n",
        "\n",
        "for i in range(400):\n",
        "    params = step(params, batch)\n",
        "    \n",
        "    # Show progress\n",
        "    if i % 10 == 0:\n",
        "        clear_output(wait=True)\n",
        "        A_inv_est, b_est = params\n",
        "\n",
        "        plt.figure(figsize=(4, 4))\n",
        "        plt.title(\"iteration = {}, loss = {}\".format(i, loss(params, batch)))\n",
        "        \n",
        "        plt.hist2d(batch[:, 0], batch[:, 1], bins=50, range=[(-5,5), (-5,5)], density=True)\n",
        "        plt.xlim(-5, 5)\n",
        "        plt.ylim(-5, 5)\n",
        "\n",
        "        x = np.arange(-5.0, 5.0, 0.05)\n",
        "        y = np.arange(-5.0, 5.0, 0.05)\n",
        "        X, Y = np.meshgrid(x, y)\n",
        "        shape = X.shape\n",
        "        grid = np.hstack([X.reshape(-1, 1), Y.reshape(-1, 1)])\n",
        "        Z = np.exp(multivariate_normal.logpdf(g_fwd_vec(grid, A_inv_est, b_est), \n",
        "                                              mean=np.zeros(2), \n",
        "                                              cov=np.eye(2)) + np.log(np.abs(det_vec(J_vec(grid, A_inv_est, b_est)))))\n",
        "        Z = Z.reshape(shape)\n",
        "        CS = plt.contour(X, Y, Z, levels=10, lw=2)\n",
        "\n",
        "        plt.show()"
      ]
    },
    {
      "cell_type": "markdown",
      "metadata": {
        "id": "GZUF_XcPquiN"
      },
      "source": [
        "Of course, in this case, fitting the parameters of an affine transformation of a Normal distribution by expressing the data likelihood through the change of variables theorem is clearly an overkill. \n",
        "\n",
        "However, the same recipe holds for any invertible transformation $\\mathbf{z} = g(\\mathbf{x})$. In particular, parameterizing $g$ with an invertible neural network will result in a [Normalizing Flow](https://arxiv.org/abs/1912.02762)."
      ]
    }
  ],
  "metadata": {
    "colab": {
      "provenance": []
    },
    "kernelspec": {
      "display_name": "Python 3",
      "name": "python3"
    },
    "language_info": {
      "name": "python"
    }
  },
  "nbformat": 4,
  "nbformat_minor": 0
}