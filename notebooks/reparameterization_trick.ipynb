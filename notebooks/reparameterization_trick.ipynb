{
 "cells": [
  {
   "cell_type": "markdown",
   "metadata": {},
   "source": [
    "#Reparameterization Trick"
   ]
  },
  {
   "cell_type": "markdown",
   "metadata": {},
   "source": [
    "Assume we have a normal distribution $q$ that is parameterized by $\\theta$, specifically $q_{\\theta}(x) = N(\\theta,1)$. We want to solve the below problem\n",
    "$$\n",
    "\\text{min}_{\\theta} \\quad E_q[x^2]\n",
    "$$\n",
    "This is of course a rather silly problem and the optimal $\\theta$ is obvious. We want to understand how the reparameterization trick helps in calculating the gradient of this objective $E_q[x^2]$."
   ]
  },
  {
   "cell_type": "markdown",
   "metadata": {},
   "source": [
    "One way to calculate $\\nabla_{\\theta} E_q[x^2]$ is by using Score Function Estimation\n",
    "$$\n",
    "\\nabla_{\\theta} E_q[x^2] = \\nabla_{\\theta} \\int q_{\\theta}(x) x^2 dx = \\int x^2 \\nabla_{\\theta} q_{\\theta}(x) \\frac{q_{\\theta}(x)}{q_{\\theta}(x)} dx = \\int q_{\\theta}(x) \\nabla_{\\theta} \\log q_{\\theta}(x) x^2 dx = E_q[x^2 \\nabla_{\\theta} \\log q_{\\theta}(x)]\n",
    "$$\n",
    "\n",
    "For our example where $q_{\\theta}(x) = N(\\theta,1)$, this method gives\n",
    "$$\n",
    "\\nabla_{\\theta} E_q[x^2] = E_q[x^2 (x-\\theta)]\n",
    "$$"
   ]
  },
  {
   "cell_type": "markdown",
   "metadata": {},
   "source": [
    "Reparameterization trick is a way to rewrite the expectation so that the distribution with respect to which we take the expectation is independent of parameter $\\theta$. To achieve this, we need to make the stochastic element in $q$ independent of $\\theta$. Hence, we write $x$ as\n",
    "$$\n",
    "x = \\theta + \\epsilon, \\quad \\epsilon \\sim N(0,1)\n",
    "$$\n",
    "Then, we can write \n",
    "$$\n",
    "E_q[x^2] = E_p[(\\theta+\\epsilon)^2]\n",
    "$$ \n",
    "where $p$ is the distribution of $\\epsilon$, i.e., $N(0,1)$. Now we can write the derivative of $E_q[x^2]$ as follows\n",
    "$$\n",
    "\\nabla_{\\theta} E_q[x^2] = \\nabla_{\\theta} E_p[(\\theta+\\epsilon)^2] = E_p[2(\\theta+\\epsilon)]\n",
    "$$"
   ]
  },
  {
   "cell_type": "markdown",
   "metadata": {},
   "source": [
    "Now let us compare the variances of the two methods; we are hoping to see that the first method has high variance while reparameterization trick decreases the variance substantially."
   ]
  },
  {
   "cell_type": "code",
   "execution_count": 64,
   "metadata": {
    "collapsed": false
   },
   "outputs": [
    {
     "name": "stdout",
     "output_type": "stream",
     "text": [
      "3.86872102149\n",
      "4.03506045463\n"
     ]
    }
   ],
   "source": [
    "import numpy as np\n",
    "N = 1000\n",
    "theta = 2.0\n",
    "eps = np.random.randn(N)\n",
    "x = theta + eps\n",
    "\n",
    "grad1 = lambda x: np.sum(np.square(x)*(x-theta)) / x.size\n",
    "grad2 = lambda eps: np.sum(2*(theta + eps)) / x.size\n",
    "\n",
    "print(grad1(x))\n",
    "print(grad2(eps))"
   ]
  },
  {
   "cell_type": "markdown",
   "metadata": {},
   "source": [
    "Let us plot the variance for different sample sizes."
   ]
  },
  {
   "cell_type": "code",
   "execution_count": 66,
   "metadata": {
    "collapsed": false
   },
   "outputs": [
    {
     "name": "stdout",
     "output_type": "stream",
     "text": [
      "[ 4.10377908  4.07894165  3.97133622  4.00847457  3.99620013]\n",
      "[ 3.95374031  4.0025519   3.99285189  4.00065614  4.00154934]\n",
      "\n",
      "[  8.63411090e+00   8.90650401e-01   8.94014392e-02   8.95798809e-03\n",
      "   1.09726802e-03]\n",
      "[  3.70336929e-01   4.60841910e-02   3.59508788e-03   3.94404543e-04\n",
      "   3.97245142e-05]\n"
     ]
    }
   ],
   "source": [
    "Ns = [10, 100, 1000, 10000, 100000]\n",
    "reps = 100\n",
    "\n",
    "means1 = np.zeros(len(Ns))\n",
    "vars1 = np.zeros(len(Ns))\n",
    "means2 = np.zeros(len(Ns))\n",
    "vars2 = np.zeros(len(Ns))\n",
    "\n",
    "est1 = np.zeros(reps)\n",
    "est2 = np.zeros(reps)\n",
    "for i, N in enumerate(Ns):\n",
    "    for r in range(reps):\n",
    "        x = np.random.randn(N) + theta\n",
    "        est1[r] = grad1(x)\n",
    "        eps = np.random.randn(N)\n",
    "        est2[r] = grad2(eps)\n",
    "    means1[i] = np.mean(est1)\n",
    "    means2[i] = np.mean(est2)\n",
    "    vars1[i] = np.var(est1)\n",
    "    vars2[i] = np.var(est2)\n",
    "    \n",
    "print(means1)\n",
    "print(means2)\n",
    "print\n",
    "print(vars1)\n",
    "print(vars2)"
   ]
  },
  {
   "cell_type": "code",
   "execution_count": 67,
   "metadata": {
    "collapsed": false
   },
   "outputs": [
    {
     "name": "stderr",
     "output_type": "stream",
     "text": [
      "/usr/local/lib/python2.7/dist-packages/matplotlib/__init__.py:872: UserWarning: axes.color_cycle is deprecated and replaced with axes.prop_cycle; please use the latter.\n",
      "  warnings.warn(self.msg_depr % (key, alt_key))\n"
     ]
    },
    {
     "data": {
      "text/plain": [
       "<matplotlib.legend.Legend at 0x7facb844ae50>"
      ]
     },
     "execution_count": 67,
     "metadata": {},
     "output_type": "execute_result"
    },
    {
     "data": {
      "image/png": "[encoded data removed]",
      "text/plain": [
       "<matplotlib.figure.Figure at 0x7facbd96f110>"
      ]
     },
     "metadata": {},
     "output_type": "display_data"
    }
   ],
   "source": [
    "%matplotlib inline\n",
    "import matplotlib.pyplot as plt\n",
    "\n",
    "plt.plot(vars1)\n",
    "plt.plot(vars2)\n",
    "plt.legend(['no rt', 'rt'])"
   ]
  },
  {
   "cell_type": "markdown",
   "metadata": {},
   "source": [
    "Variance of the estimates using reparameterization trick is one order of magnitude smaller than the score function estimator!"
   ]
  }
 ],
 "metadata": {
  "kernelspec": {
   "display_name": "Python 2",
   "language": "python",
   "name": "python2"
  },
  "language_info": {
   "codemirror_mode": {
    "name": "ipython",
    "version": 2
   },
   "file_extension": ".py",
   "mimetype": "text/x-python",
   "name": "python",
   "nbconvert_exporter": "python",
   "pygments_lexer": "ipython2",
   "version": "2.7.12"
  }
 },
 "nbformat": 4,
 "nbformat_minor": 0
}
