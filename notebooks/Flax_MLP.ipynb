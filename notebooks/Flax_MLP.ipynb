{
  "cells": [
    {
      "cell_type": "code",
      "execution_count": 1,
      "metadata": {
        "colab": {
          "base_uri": "https://localhost:8080/"
        },
        "id": "ZoC1lV-sW_bP",
        "outputId": "2b660aca-4058-405d-c61d-f4df45e59d68"
      },
      "outputs": [
        {
          "name": "stdout",
          "output_type": "stream",
          "text": [
            "Looking in indexes: https://pypi.org/simple, https://us-python.pkg.dev/colab-wheels/public/simple/\n",
            "Requirement already satisfied: flax in /usr/local/lib/python3.9/dist-packages (0.6.7)\n",
            "Requirement already satisfied: PyYAML>=5.4.1 in /usr/local/lib/python3.9/dist-packages (from flax) (6.0)\n",
            "Requirement already satisfied: typing-extensions>=4.1.1 in /usr/local/lib/python3.9/dist-packages (from flax) (4.5.0)\n",
            "Requirement already satisfied: rich>=11.1 in /usr/local/lib/python3.9/dist-packages (from flax) (13.3.2)\n",
            "Requirement already satisfied: tensorstore in /usr/local/lib/python3.9/dist-packages (from flax) (0.1.33)\n",
            "Requirement already satisfied: orbax in /usr/local/lib/python3.9/dist-packages (from flax) (0.1.6)\n",
            "Requirement already satisfied: numpy>=1.12 in /usr/local/lib/python3.9/dist-packages (from flax) (1.22.4)\n",
            "Requirement already satisfied: optax in /usr/local/lib/python3.9/dist-packages (from flax) (0.1.4)\n",
            "Requirement already satisfied: msgpack in /usr/local/lib/python3.9/dist-packages (from flax) (1.0.5)\n",
            "Requirement already satisfied: jax>=0.4.2 in /usr/local/lib/python3.9/dist-packages (from flax) (0.4.6)\n",
            "Requirement already satisfied: opt-einsum in /usr/local/lib/python3.9/dist-packages (from jax>=0.4.2->flax) (3.3.0)\n",
            "Requirement already satisfied: scipy>=1.5 in /usr/local/lib/python3.9/dist-packages (from jax>=0.4.2->flax) (1.10.1)\n",
            "Requirement already satisfied: markdown-it-py<3.0.0,>=2.2.0 in /usr/local/lib/python3.9/dist-packages (from rich>=11.1->flax) (2.2.0)\n",
            "Requirement already satisfied: pygments<3.0.0,>=2.13.0 in /usr/local/lib/python3.9/dist-packages (from rich>=11.1->flax) (2.14.0)\n",
            "Requirement already satisfied: absl-py>=0.7.1 in /usr/local/lib/python3.9/dist-packages (from optax->flax) (1.4.0)\n",
            "Requirement already satisfied: jaxlib>=0.1.37 in /usr/local/lib/python3.9/dist-packages (from optax->flax) (0.4.6+cuda11.cudnn86)\n",
            "Requirement already satisfied: chex>=0.1.5 in /usr/local/lib/python3.9/dist-packages (from optax->flax) (0.1.6)\n",
            "Requirement already satisfied: etils in /usr/local/lib/python3.9/dist-packages (from orbax->flax) (1.1.1)\n",
            "Requirement already satisfied: nest_asyncio in /usr/local/lib/python3.9/dist-packages (from orbax->flax) (1.5.6)\n",
            "Requirement already satisfied: importlib_resources in /usr/local/lib/python3.9/dist-packages (from orbax->flax) (5.12.0)\n",
            "Requirement already satisfied: cached_property in /usr/local/lib/python3.9/dist-packages (from orbax->flax) (1.5.2)\n",
            "Requirement already satisfied: toolz>=0.9.0 in /usr/local/lib/python3.9/dist-packages (from chex>=0.1.5->optax->flax) (0.12.0)\n",
            "Requirement already satisfied: dm-tree>=0.1.5 in /usr/local/lib/python3.9/dist-packages (from chex>=0.1.5->optax->flax) (0.1.8)\n",
            "Requirement already satisfied: mdurl~=0.1 in /usr/local/lib/python3.9/dist-packages (from markdown-it-py<3.0.0,>=2.2.0->rich>=11.1->flax) (0.1.2)\n",
            "Requirement already satisfied: zipp>=3.1.0 in /usr/local/lib/python3.9/dist-packages (from importlib_resources->orbax->flax) (3.15.0)\n"
          ]
        }
      ],
      "source": [
        "!pip install --upgrade flax"
      ]
    },
    {
      "cell_type": "code",
      "execution_count": 12,
      "metadata": {
        "id": "EbrNowBtdapq"
      },
      "outputs": [],
      "source": [
        "import jax.numpy as jnp\n",
        "import numpy as np\n",
        "from jax import random, vmap, grad, jit\n",
        "\n",
        "import flax.linen as nn\n",
        "import optax\n",
        "\n",
        "from typing import Any, Callable, Sequence, Optional, Union, Dict\n",
        "\n",
        "import itertools\n",
        "from functools import partial\n",
        "from tqdm import trange\n",
        "import matplotlib.pyplot as plt"
      ]
    },
    {
      "cell_type": "code",
      "execution_count": 8,
      "metadata": {
        "id": "ROcluSnaXCmr"
      },
      "outputs": [],
      "source": [
        "class MLP(nn.Module):\n",
        "    num_layers: int=2\n",
        "    hidden_dim: int=64\n",
        "    output_dim: int=1\n",
        "    activation: Callable=nn.gelu\n",
        "\n",
        "    @nn.compact\n",
        "    def __call__(self, x):\n",
        "        for _ in range(self.num_layers):\n",
        "            x = nn.Dense(self.hidden_dim)(x)\n",
        "            x = self.activation(x)\n",
        "        x = nn.Dense(self.output_dim)(x)\n",
        "        return x"
      ]
    },
    {
      "cell_type": "code",
      "execution_count": 9,
      "metadata": {
        "id": "CuQxZ8mAfzpf"
      },
      "outputs": [],
      "source": [
        "class MLPregression:\n",
        "    # Initialize the class\n",
        "    def __init__(self, arch, batch, rng_key=random.PRNGKey(0)):\n",
        "        \n",
        "        # Initialization and evaluation functions\n",
        "        inputs, _ = batch\n",
        "        self.model = arch\n",
        "        self.params = self.model.init(rng_key, inputs)\n",
        "        print(self.model.tabulate(rng_key, inputs))\n",
        "\n",
        "        # Optimizer\n",
        "        lr = optax.exponential_decay(1e-3, transition_steps=1000, decay_rate=0.9)\n",
        "        self.optimizer = optax.adam(learning_rate=lr)\n",
        "        self.opt_state = self.optimizer.init(self.params)\n",
        "\n",
        "        # Logger\n",
        "        self.itercount = itertools.count()\n",
        "        self.loss_log = []\n",
        "\n",
        "    def loss(self, params, batch):\n",
        "        inputs, targets = batch\n",
        "        outputs = self.model.apply(params, inputs)\n",
        "        loss = jnp.mean((targets - outputs)**2)\n",
        "        return loss \n",
        "\n",
        "    # Define a compiled update step\n",
        "    @partial(jit, static_argnums=(0,))\n",
        "    def step(self, params, opt_state, batch):\n",
        "        grads = grad(self.loss)(params, batch)\n",
        "        updates, opt_state = self.optimizer.update(grads, opt_state, params)\n",
        "        params = optax.apply_updates(params, updates)\n",
        "        return params, opt_state\n",
        "\n",
        "\n",
        "    # Optimize parameters in a loop\n",
        "    def train(self, dataset, nIter = 10000):\n",
        "        data = iter(dataset)\n",
        "        pbar = trange(nIter)\n",
        "        # Main training loop\n",
        "        for it in pbar:\n",
        "            batch = next(data)\n",
        "            self.params, self.opt_state = self.step(self.params, self.opt_state, batch)\n",
        "            # Logger\n",
        "            if it % 100 == 0:\n",
        "                loss = self.loss(self.params, batch)\n",
        "                self.loss_log.append(loss)\n",
        "                pbar.set_postfix({'loss': loss})"
      ]
    },
    {
      "cell_type": "code",
      "execution_count": 10,
      "metadata": {
        "colab": {
          "base_uri": "https://localhost:8080/"
        },
        "id": "8YosM-uRXdmr",
        "outputId": "4d16a79c-eb6c-40cb-e8b7-1467b36e50e1"
      },
      "outputs": [
        {
          "name": "stdout",
          "output_type": "stream",
          "text": [
            "--2023-03-28 18:02:10--  https://github.com/maziarraissi/backprop/raw/master/training_data.csv\n",
            "Resolving github.com (github.com)... 140.82.112.4\n",
            "Connecting to github.com (github.com)|140.82.112.4|:443... connected.\n",
            "HTTP request sent, awaiting response... 302 Found\n",
            "Location: https://raw.githubusercontent.com/maziarraissi/backprop/master/training_data.csv [following]\n",
            "--2023-03-28 18:02:11--  https://raw.githubusercontent.com/maziarraissi/backprop/master/training_data.csv\n",
            "Resolving raw.githubusercontent.com (raw.githubusercontent.com)... 185.199.108.133, 185.199.109.133, 185.199.110.133, ...\n",
            "Connecting to raw.githubusercontent.com (raw.githubusercontent.com)|185.199.108.133|:443... connected.\n",
            "HTTP request sent, awaiting response... 200 OK\n",
            "Length: 5100 (5.0K) [text/plain]\n",
            "Saving to: ‘training_data.csv.1’\n",
            "\n",
            "training_data.csv.1 100%[===================>]   4.98K  --.-KB/s    in 0s      \n",
            "\n",
            "2023-03-28 18:02:11 (71.3 MB/s) - ‘training_data.csv.1’ saved [5100/5100]\n",
            "\n",
            "--2023-03-28 18:02:11--  https://github.com/maziarraissi/backprop/raw/master/test_data.csv\n",
            "Resolving github.com (github.com)... 140.82.121.3\n",
            "Connecting to github.com (github.com)|140.82.121.3|:443... connected.\n",
            "HTTP request sent, awaiting response... 302 Found\n",
            "Location: https://raw.githubusercontent.com/maziarraissi/backprop/master/test_data.csv [following]\n",
            "--2023-03-28 18:02:11--  https://raw.githubusercontent.com/maziarraissi/backprop/master/test_data.csv\n",
            "Resolving raw.githubusercontent.com (raw.githubusercontent.com)... 185.199.108.133, 185.199.109.133, 185.199.110.133, ...\n",
            "Connecting to raw.githubusercontent.com (raw.githubusercontent.com)|185.199.108.133|:443... connected.\n",
            "HTTP request sent, awaiting response... 200 OK\n",
            "Length: 51000 (50K) [text/plain]\n",
            "Saving to: ‘test_data.csv.1’\n",
            "\n",
            "test_data.csv.1     100%[===================>]  49.80K  --.-KB/s    in 0.003s  \n",
            "\n",
            "2023-03-28 18:02:11 (15.2 MB/s) - ‘test_data.csv.1’ saved [51000/51000]\n",
            "\n"
          ]
        }
      ],
      "source": [
        "!wget https://github.com/maziarraissi/backprop/raw/master/training_data.csv\n",
        "!wget https://github.com/maziarraissi/backprop/raw/master/test_data.csv"
      ]
    },
    {
      "cell_type": "code",
      "execution_count": 13,
      "metadata": {
        "id": "hYTyW4M2hVBP"
      },
      "outputs": [],
      "source": [
        "training_data = np.loadtxt(\"training_data.csv\")\n",
        "X = jnp.array(training_data[:,0:1], dtype=jnp.float32)\n",
        "Y = jnp.array(training_data[:,1:2], dtype=jnp.float32)\n",
        "\n",
        "# Normalization constants\n",
        "mu_X, sigma_X = X.mean(0), X.std(0)\n",
        "mu_Y, sigma_Y = Y.mean(0), Y.std(0)\n",
        "norm_const = (mu_X, sigma_X), (mu_Y, sigma_Y)\n",
        "\n",
        "rng_key = random.PRNGKey(0)"
      ]
    },
    {
      "cell_type": "code",
      "execution_count": 14,
      "metadata": {
        "id": "c824NoCDVVJG"
      },
      "outputs": [],
      "source": [
        "from torch.utils import data\n",
        "\n",
        "class DataGenerator(data.Dataset):\n",
        "    def __init__(self, X, Y, \n",
        "                 norm_const=((0.0, 1.0), (0.0, 1.0)), \n",
        "                 batch_size=128, \n",
        "                 rng_key=random.PRNGKey(1234)):\n",
        "        'Initialization'\n",
        "        self.X = X\n",
        "        self.Y = Y\n",
        "        self.N = Y.shape[0]\n",
        "        self.norm_const = norm_const\n",
        "        self.batch_size = batch_size\n",
        "        self.key = rng_key\n",
        "\n",
        "    @partial(jit, static_argnums=(0,))\n",
        "    def __data_generation(self, key, X, Y):\n",
        "        'Generates data containing batch_size samples'\n",
        "        (mu_X, sigma_X), (mu_Y, sigma_Y) = self.norm_const\n",
        "        idx = random.choice(key, self.N, (self.batch_size,), replace=False)\n",
        "        inputs = X[idx,:]\n",
        "        targets = Y[idx,:]\n",
        "        inputs = (inputs - mu_X)/sigma_X\n",
        "        targets = (targets - mu_Y)/sigma_Y\n",
        "        return inputs, targets\n",
        "\n",
        "    def __getitem__(self, index):\n",
        "        'Generate one batch of data'\n",
        "        self.key, subkey = random.split(self.key)\n",
        "        inputs, targets = self.__data_generation(self.key, self.X, self.Y)\n",
        "        return inputs, targets"
      ]
    },
    {
      "cell_type": "code",
      "execution_count": 16,
      "metadata": {
        "id": "Uvva3NV1W6ee"
      },
      "outputs": [],
      "source": [
        "dataset = DataGenerator(X, Y, norm_const, batch_size=32)\n",
        "data = iter(dataset)\n",
        "batch = next(data)"
      ]
    },
    {
      "cell_type": "code",
      "execution_count": 17,
      "metadata": {
        "colab": {
          "base_uri": "https://localhost:8080/"
        },
        "id": "I3HSbKsIl_ym",
        "outputId": "1fa028fe-d80b-401a-f36b-75f400cb1f99"
      },
      "outputs": [
        {
          "name": "stdout",
          "output_type": "stream",
          "text": [
            "\n",
            "\u001b[3m                                  MLP Summary                                   \u001b[0m\n",
            "┏━━━━━━━━━┳━━━━━━━━┳━━━━━━━━━━━━━━━━━┳━━━━━━━━━━━━━━━━━┳━━━━━━━━━━━━━━━━━━━━━━━┓\n",
            "┃\u001b[1m \u001b[0m\u001b[1mpath   \u001b[0m\u001b[1m \u001b[0m┃\u001b[1m \u001b[0m\u001b[1mmodule\u001b[0m\u001b[1m \u001b[0m┃\u001b[1m \u001b[0m\u001b[1minputs         \u001b[0m\u001b[1m \u001b[0m┃\u001b[1m \u001b[0m\u001b[1moutputs        \u001b[0m\u001b[1m \u001b[0m┃\u001b[1m \u001b[0m\u001b[1mparams               \u001b[0m\u001b[1m \u001b[0m┃\n",
            "┡━━━━━━━━━╇━━━━━━━━╇━━━━━━━━━━━━━━━━━╇━━━━━━━━━━━━━━━━━╇━━━━━━━━━━━━━━━━━━━━━━━┩\n",
            "│         │ MLP    │ \u001b[2mfloat32\u001b[0m[32,1]   │ \u001b[2mfloat32\u001b[0m[32,1]   │ Dense_0:              │\n",
            "│         │        │                 │                 │   bias: \u001b[2mfloat32\u001b[0m[128]  │\n",
            "│         │        │                 │                 │   kernel:             │\n",
            "│         │        │                 │                 │ \u001b[2mfloat32\u001b[0m[1,128]        │\n",
            "│         │        │                 │                 │ Dense_1:              │\n",
            "│         │        │                 │                 │   bias: \u001b[2mfloat32\u001b[0m[128]  │\n",
            "│         │        │                 │                 │   kernel:             │\n",
            "│         │        │                 │                 │ \u001b[2mfloat32\u001b[0m[128,128]      │\n",
            "│         │        │                 │                 │ Dense_2:              │\n",
            "│         │        │                 │                 │   bias: \u001b[2mfloat32\u001b[0m[1]    │\n",
            "│         │        │                 │                 │   kernel:             │\n",
            "│         │        │                 │                 │ \u001b[2mfloat32\u001b[0m[128,1]        │\n",
            "│         │        │                 │                 │                       │\n",
            "│         │        │                 │                 │ \u001b[1m16,897 \u001b[0m\u001b[1;2m(67.6 KB)\u001b[0m      │\n",
            "├─────────┼────────┼─────────────────┼─────────────────┼───────────────────────┤\n",
            "│ Dense_0 │ Dense  │ \u001b[2mfloat32\u001b[0m[32,1]   │ \u001b[2mfloat32\u001b[0m[32,128] │ bias: \u001b[2mfloat32\u001b[0m[128]    │\n",
            "│         │        │                 │                 │ kernel:               │\n",
            "│         │        │                 │                 │ \u001b[2mfloat32\u001b[0m[1,128]        │\n",
            "│         │        │                 │                 │                       │\n",
            "│         │        │                 │                 │ \u001b[1m256 \u001b[0m\u001b[1;2m(1.0 KB)\u001b[0m          │\n",
            "├─────────┼────────┼─────────────────┼─────────────────┼───────────────────────┤\n",
            "│ Dense_1 │ Dense  │ \u001b[2mfloat32\u001b[0m[32,128] │ \u001b[2mfloat32\u001b[0m[32,128] │ bias: \u001b[2mfloat32\u001b[0m[128]    │\n",
            "│         │        │                 │                 │ kernel:               │\n",
            "│         │        │                 │                 │ \u001b[2mfloat32\u001b[0m[128,128]      │\n",
            "│         │        │                 │                 │                       │\n",
            "│         │        │                 │                 │ \u001b[1m16,512 \u001b[0m\u001b[1;2m(66.0 KB)\u001b[0m      │\n",
            "├─────────┼────────┼─────────────────┼─────────────────┼───────────────────────┤\n",
            "│ Dense_2 │ Dense  │ \u001b[2mfloat32\u001b[0m[32,128] │ \u001b[2mfloat32\u001b[0m[32,1]   │ bias: \u001b[2mfloat32\u001b[0m[1]      │\n",
            "│         │        │                 │                 │ kernel:               │\n",
            "│         │        │                 │                 │ \u001b[2mfloat32\u001b[0m[128,1]        │\n",
            "│         │        │                 │                 │                       │\n",
            "│         │        │                 │                 │ \u001b[1m129 \u001b[0m\u001b[1;2m(516 B)\u001b[0m           │\n",
            "├─────────┼────────┼─────────────────┼─────────────────┼───────────────────────┤\n",
            "│\u001b[1m \u001b[0m\u001b[1m       \u001b[0m\u001b[1m \u001b[0m│\u001b[1m \u001b[0m\u001b[1m      \u001b[0m\u001b[1m \u001b[0m│\u001b[1m \u001b[0m\u001b[1m               \u001b[0m\u001b[1m \u001b[0m│\u001b[1m \u001b[0m\u001b[1m          Total\u001b[0m\u001b[1m \u001b[0m│\u001b[1m \u001b[0m\u001b[1m33,794 \u001b[0m\u001b[1;2m(135.2 KB)\u001b[0m\u001b[1m    \u001b[0m\u001b[1m \u001b[0m│\n",
            "└─────────┴────────┴─────────────────┴─────────────────┴───────────────────────┘\n",
            "\u001b[1m                                                                                \u001b[0m\n",
            "\u001b[1m                      Total Parameters: 33,794 \u001b[0m\u001b[1;2m(135.2 KB)\u001b[0m\u001b[1m                       \u001b[0m\n",
            "\n",
            "\n"
          ]
        }
      ],
      "source": [
        "arch = MLP(num_layers=2,\n",
        "           hidden_dim=128,\n",
        "           output_dim=1)\n",
        "model = MLPregression(arch, batch)"
      ]
    },
    {
      "cell_type": "code",
      "execution_count": 18,
      "metadata": {
        "colab": {
          "base_uri": "https://localhost:8080/"
        },
        "id": "ZWa3NT_Om-vn",
        "outputId": "f1516e15-2f94-48af-e87c-4fc8b18c8aa0"
      },
      "outputs": [
        {
          "name": "stderr",
          "output_type": "stream",
          "text": [
            "100%|██████████| 10000/10000 [00:16<00:00, 614.09it/s, loss=0.00049988576]\n"
          ]
        }
      ],
      "source": [
        "model.train(dataset, nIter=10000)"
      ]
    },
    {
      "cell_type": "code",
      "execution_count": 19,
      "metadata": {
        "id": "x0obQ_QQwAfE"
      },
      "outputs": [],
      "source": [
        "# Validate predictions\n",
        "test_data = np.loadtxt(\"test_data.csv\")\n",
        "X_test = jnp.array(test_data[:,0:1], dtype=np.float32)\n",
        "Y_test = jnp.array(test_data[:,1:2], dtype=np.float32)\n",
        "\n",
        "# Normalize test inputs\n",
        "X_star = (X_test - mu_X)/sigma_X\n",
        "\n",
        "# Predict\n",
        "Y_pred = model.model.apply(model.params, X_star)\n",
        "# De-normalize predicted outputs\n",
        "Y_pred = Y_pred*sigma_Y + mu_Y"
      ]
    },
    {
      "cell_type": "code",
      "execution_count": 20,
      "metadata": {
        "colab": {
          "base_uri": "https://localhost:8080/",
          "height": 615
        },
        "id": "pZfCoEmfwgZ_",
        "outputId": "e94ae429-f8bc-430a-97e5-a34b11688786"
      },
      "outputs": [
        {
          "name": "stdout",
          "output_type": "stream",
          "text": [
            "Error 2.210598e-02\n"
          ]
        },
        {
          "data": {
            "text/plain": [
              "Text(0, 0.5, 'Loss')"
            ]
          },
          "execution_count": 20,
          "metadata": {},
          "output_type": "execute_result"
        },
        {
          "data": {
            "image/png": "[encoded data removed]",
            "text/plain": [
              "<Figure size 432x288 with 1 Axes>"
            ]
          },
          "metadata": {
            "needs_background": "light"
          },
          "output_type": "display_data"
        },
        {
          "data": {
            "image/png": "[encoded data removed]",
            "text/plain": [
              "<Figure size 432x288 with 1 Axes>"
            ]
          },
          "metadata": {
            "needs_background": "light"
          },
          "output_type": "display_data"
        }
      ],
      "source": [
        "error = np.linalg.norm(Y_pred - Y_test)/np.linalg.norm(Y_test)\n",
        "print('Error %e' %(error))\n",
        "\n",
        "plt.figure()\n",
        "plt.plot(X,Y,'kx')\n",
        "plt.plot(X_test,Y_test,'b-')\n",
        "plt.plot(X_test,Y_pred,'r--')\n",
        "plt.xlabel('x')\n",
        "plt.xlabel('y')\n",
        "plt.tight_layout()\n",
        "\n",
        "plt.figure()\n",
        "plt.plot(np.array(model.loss_log))\n",
        "plt.yscale('log')\n",
        "plt.xlabel('Iteration')\n",
        "plt.ylabel('Loss')"
      ]
    },
    {
      "cell_type": "code",
      "execution_count": null,
      "metadata": {
        "id": "dj4N_sr_wm2N"
      },
      "outputs": [],
      "source": []
    }
  ],
  "metadata": {
    "accelerator": "GPU",
    "colab": {
      "provenance": []
    },
    "gpuClass": "standard",
    "kernelspec": {
      "display_name": "Python 3",
      "name": "python3"
    },
    "language_info": {
      "name": "python"
    }
  },
  "nbformat": 4,
  "nbformat_minor": 0
}
