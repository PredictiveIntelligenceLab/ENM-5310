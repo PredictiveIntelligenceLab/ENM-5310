{
  "cells": [
    {
      "cell_type": "code",
      "execution_count": 11,
      "metadata": {
        "id": "T0lIBbj1sUp5"
      },
      "outputs": [],
      "source": [
        "import numpy as np\n",
        "import matplotlib.pyplot as plt\n",
        "from tqdm import trange"
      ]
    },
    {
      "cell_type": "code",
      "execution_count": 12,
      "metadata": {
        "id": "D09rRYFwsaBz"
      },
      "outputs": [],
      "source": [
        "def stochastic_update_Adam(w, grad_w, mt, vt,lrate, iteration):\n",
        "    beta1 = 0.9;\n",
        "    beta2 = 0.999;\n",
        "    epsilon = 1e-8;\n",
        "\n",
        "    mt = mt*beta1 + (1.0-beta1)*grad_w;\n",
        "    vt = vt*beta2 + (1.0-beta2)*grad_w**2;\n",
        "\n",
        "    mt_hat = mt/(1.0-beta1**iteration);\n",
        "    vt_hat = vt/(1.0-beta2**iteration);\n",
        "\n",
        "    scal = 1.0/(np.sqrt(vt_hat) + epsilon);\n",
        "\n",
        "    w = w - lrate*mt_hat*scal;\n",
        "    \n",
        "    return w, mt, vt"
      ]
    },
    {
      "cell_type": "code",
      "execution_count": 13,
      "metadata": {
        "id": "9K4wV-hUsdhM"
      },
      "outputs": [],
      "source": [
        "def xavier_init(size):\n",
        "    in_dim = size[0]\n",
        "    out_dim = size[1]\n",
        "    xavier_stddev = np.sqrt(2/(in_dim + out_dim))\n",
        "    return np.random.normal(size = [in_dim, out_dim], scale=xavier_stddev)\n",
        "\n",
        "def initialize_NN(layers):\n",
        "    weights = []\n",
        "    biases = []\n",
        "    num_layers = len(layers)\n",
        "    for l in range(0,num_layers-1):\n",
        "        W = xavier_init(size=[layers[l], layers[l+1]])\n",
        "        b = np.zeros([1,layers[l+1]]) \n",
        "        weights.append(W)\n",
        "        biases.append(b)\n",
        "    return weights, biases"
      ]
    },
    {
      "cell_type": "code",
      "execution_count": 14,
      "metadata": {
        "id": "7dSYo22csjBS"
      },
      "outputs": [],
      "source": [
        "class NN:\n",
        "    # Initialize the class\n",
        "    def __init__(self, X, Y, layers):\n",
        "        \n",
        "        # data\n",
        "        self.X = X # N x P\n",
        "        self.Y = Y # N x Q\n",
        "        \n",
        "        # layers\n",
        "        self.layers = layers # P ----> Q\n",
        "        \n",
        "        # initialize NN\n",
        "        self.weights, self.biases = initialize_NN(layers)\n",
        "\n",
        "        # Logger\n",
        "        self.loss_log = []\n",
        "    \n",
        "    def loss_function(self):\n",
        "        num_layers = len(self.layers)\n",
        "        weights = self.weights\n",
        "        biases = self.biases\n",
        "        \n",
        "        H = [None]*(num_layers-1)\n",
        "        A = [None]*(num_layers-1)\n",
        "        \n",
        "        H[0] = self.X\n",
        "        A[0] = self.X\n",
        "        \n",
        "        for l in range(0,num_layers-2):\n",
        "            H[l+1] = np.dot(A[l],weights[l]) + biases[l]\n",
        "            A[l+1] = np.tanh(H[l+1])\n",
        "        \n",
        "        Y_pred = np.dot(A[num_layers-2],weights[num_layers-2]) + \\\n",
        "                 biases[num_layers-2]\n",
        "        \n",
        "        loss = 0.5*np.sum((Y_pred-self.Y)**2)\n",
        "        \n",
        "        ### backpropagation\n",
        "        \n",
        "        G = [None]*(num_layers-1)\n",
        "        loss_weights = [None]*(num_layers-1)\n",
        "        loss_biases = [None]*(num_layers-1)\n",
        "        \n",
        "        G[num_layers-2] = Y_pred - self.Y\n",
        "        \n",
        "        for l in range(num_layers-2,0,-1):\n",
        "            \n",
        "            loss_weights[l] = np.dot(H[l].T, G[l])\n",
        "            loss_biases[l] = np.sum(G[l],axis=0)\n",
        "            \n",
        "            G[l-1] = (1 - A[l]**2)*np.dot(G[l],weights[l].T)\n",
        "        \n",
        "        loss_weights[0] = np.dot(H[0].T, G[0])\n",
        "        loss_biases[0] = np.sum(G[0],axis=0)\n",
        "        \n",
        "        return loss, loss_weights, loss_biases, Y_pred\n",
        "    \n",
        "    def train(self, max_iter, learning_rate):\n",
        "        \n",
        "        num_layers = len(self.layers)\n",
        "        \n",
        "        # Adam Optimizer Parameters        \n",
        "        mt_weights, mt_biases = [None]*(num_layers-1), [None]*(num_layers-1)\n",
        "        vt_weights, vt_biases = [None]*(num_layers-1), [None]*(num_layers-1)\n",
        "        \n",
        "        for l in range(0,num_layers-1):\n",
        "            mt_weights[l], mt_biases[l] = [np.zeros(self.weights[l].shape),\n",
        "                                          np.zeros(self.biases[l].shape)]\n",
        "            vt_weights[l], vt_biases[l] = [np.zeros(self.weights[l].shape),\n",
        "                                           np.zeros(self.biases[l].shape)]\n",
        "        \n",
        "        for it in trange(1,max_iter+1):\n",
        "            # Compute loss and gradients \n",
        "            loss, loss_weights, loss_biases, Y_pred = self.loss_function()\n",
        "            \n",
        "            # Update parameters\n",
        "            for l in range(0,num_layers-1):\n",
        "                [self.weights[l],\n",
        "                 mt_weights[l],\n",
        "                 vt_weights[l]] = stochastic_update_Adam(self.weights[l],\n",
        "                                                         loss_weights[l],\n",
        "                                                         mt_weights[l],\n",
        "                                                         vt_weights[l],\n",
        "                                                         learning_rate, it)\n",
        "                \n",
        "                [self.biases[l],\n",
        "                 mt_biases[l],\n",
        "                 vt_biases[l]] = stochastic_update_Adam(self.biases[l],\n",
        "                                                        loss_biases[l],\n",
        "                                                        mt_biases[l],\n",
        "                                                        vt_biases[l],\n",
        "                                                        learning_rate, it)\n",
        "                \n",
        "            if it % 10 == 0:\n",
        "                self.loss_log.append(loss)\n",
        "    \n",
        "    def test(self,X_star):\n",
        "        num_layers = len(self.layers)\n",
        "        weights = self.weights\n",
        "        biases = self.biases\n",
        "        \n",
        "        H = X_star\n",
        "        A = X_star\n",
        "        \n",
        "        for l in range(0,num_layers-2):\n",
        "            H = np.dot(A,weights[l]) + biases[l]\n",
        "            A = np.tanh(H)\n",
        "        \n",
        "        Y_pred = np.dot(A,weights[num_layers-2]) + biases[num_layers-2]\n",
        "        \n",
        "        return Y_pred"
      ]
    },
    {
      "cell_type": "code",
      "execution_count": 15,
      "metadata": {
        "colab": {
          "base_uri": "https://localhost:8080/",
          "height": 350
        },
        "id": "FIdmCmrfsnCN",
        "outputId": "91c3d3d6-61f6-4aee-9188-6dbf3c271320"
      },
      "outputs": [
        {
          "name": "stderr",
          "output_type": "stream",
          "text": [
            "100%|██████████| 10000/10000 [00:11<00:00, 840.01it/s]\n",
            "100%|██████████| 10000/10000 [00:11<00:00, 839.92it/s]\n",
            "100%|██████████| 10000/10000 [00:11<00:00, 843.87it/s]\n",
            "100%|██████████| 10000/10000 [00:11<00:00, 843.68it/s]\n"
          ]
        },
        {
          "name": "stdout",
          "output_type": "stream",
          "text": [
            "Error 2.002772e-03\n"
          ]
        },
        {
          "data": {
            "image/png": "[encoded data removed]",
            "text/plain": [
              "<Figure size 432x288 with 1 Axes>"
            ]
          },
          "metadata": {
            "needs_background": "light"
          },
          "output_type": "display_data"
        }
      ],
      "source": [
        "if __name__ == \"__main__\": \n",
        "    \n",
        "    training_data = np.loadtxt(\"training_data.csv\")\n",
        "        \n",
        "    X_train = training_data[:,0:1]\n",
        "    Y_train = training_data[:,1:2]\n",
        "    \n",
        "    model = NN(X_train, Y_train, layers=[1]+10*[10]+[1])\n",
        "    \n",
        "    model.train(max_iter=10000, learning_rate=1e-3)\n",
        "    model.train(max_iter=10000, learning_rate=1e-4)\n",
        "    model.train(max_iter=10000, learning_rate=1e-5)\n",
        "    model.train(max_iter=10000, learning_rate=1e-6)\n",
        "\n",
        "    test_data = np.loadtxt(\"test_data.csv\")\n",
        "    \n",
        "    X_test = test_data[:,0:1]\n",
        "    Y_test = test_data[:,1:2]\n",
        "\n",
        "    plt.figure()\n",
        "    plt.plot(X_train,Y_train,'kx')\n",
        "    plt.plot(X_test,Y_test,'b-')\n",
        "        \n",
        "    Y_pred = model.test(X_test)\n",
        "    \n",
        "    error = np.linalg.norm(Y_pred - Y_test)/np.linalg.norm(Y_test)\n",
        "    print('Error %e' %(error))\n",
        "    \n",
        "    plt.plot(X_test,Y_pred,'r--')"
      ]
    }
  ],
  "metadata": {
    "colab": {
      "collapsed_sections": [],
      "name": "backpropagation.ipynb",
      "provenance": []
    },
    "kernelspec": {
      "display_name": "Python 3",
      "name": "python3"
    },
    "language_info": {
      "name": "python"
    }
  },
  "nbformat": 4,
  "nbformat_minor": 0
}
